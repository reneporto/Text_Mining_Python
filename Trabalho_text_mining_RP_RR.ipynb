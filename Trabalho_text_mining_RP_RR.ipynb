{
 "cells": [
  {
   "cell_type": "markdown",
   "metadata": {},
   "source": [
    "# Text Mining - Análise de Sentimentos dos Reviews da Amazon\n",
    "### René Porto e Ricardo Rolim"
   ]
  },
  {
   "cell_type": "markdown",
   "metadata": {},
   "source": [
    "### Importar ficheiros"
   ]
  },
  {
   "cell_type": "code",
   "execution_count": 87,
   "metadata": {},
   "outputs": [],
   "source": [
    "import os\n",
    "import pandas as pd\n",
    "import numpy as np\n",
    "import nltk\n",
    "import string\n",
    "import re\n",
    "import matplotlib.pyplot as plt\n",
    "import seaborn as sns\n",
    "import sklearn.metrics as metrics\n",
    "\n",
    "from sklearn.naive_bayes import MultinomialNB\n",
    "from sklearn.linear_model import LogisticRegression\n",
    "from sklearn.svm import LinearSVC\n",
    "from sklearn.metrics import confusion_matrix, classification_report, accuracy_score\n",
    "from sklearn.feature_extraction.text import TfidfVectorizer\n",
    "from wordcloud import WordCloud\n",
    "from nltk.corpus import stopwords\n",
    "from nltk.stem import PorterStemmer\n",
    "from nltk.probability import FreqDist\n",
    "from textblob import TextBlob\n",
    "\n",
    "import sklearn.metrics as metrics"
   ]
  },
  {
   "cell_type": "code",
   "execution_count": 2,
   "metadata": {},
   "outputs": [
    {
     "data": {
      "text/html": [
       "<div>\n",
       "<style scoped>\n",
       "    .dataframe tbody tr th:only-of-type {\n",
       "        vertical-align: middle;\n",
       "    }\n",
       "\n",
       "    .dataframe tbody tr th {\n",
       "        vertical-align: top;\n",
       "    }\n",
       "\n",
       "    .dataframe thead th {\n",
       "        text-align: right;\n",
       "    }\n",
       "</style>\n",
       "<table border=\"1\" class=\"dataframe\">\n",
       "  <thead>\n",
       "    <tr style=\"text-align: right;\">\n",
       "      <th></th>\n",
       "      <th>sentiment</th>\n",
       "      <th>review</th>\n",
       "    </tr>\n",
       "  </thead>\n",
       "  <tbody>\n",
       "    <tr>\n",
       "      <th>26898</th>\n",
       "      <td>negative</td>\n",
       "      <td>I bought these after reading the reviews.  Wel...</td>\n",
       "    </tr>\n",
       "    <tr>\n",
       "      <th>22050</th>\n",
       "      <td>positive</td>\n",
       "      <td>I shopped by price and this was far and away t...</td>\n",
       "    </tr>\n",
       "    <tr>\n",
       "      <th>8087</th>\n",
       "      <td>positive</td>\n",
       "      <td>Leibniz cookies are truly my favorite, beyond ...</td>\n",
       "    </tr>\n",
       "    <tr>\n",
       "      <th>44280</th>\n",
       "      <td>positive</td>\n",
       "      <td>We bought these chips at a little sandwich sho...</td>\n",
       "    </tr>\n",
       "    <tr>\n",
       "      <th>27925</th>\n",
       "      <td>positive</td>\n",
       "      <td>I consider myself something of a chocolate con...</td>\n",
       "    </tr>\n",
       "  </tbody>\n",
       "</table>\n",
       "</div>"
      ],
      "text/plain": [
       "      sentiment                                             review\n",
       "26898  negative  I bought these after reading the reviews.  Wel...\n",
       "22050  positive  I shopped by price and this was far and away t...\n",
       "8087   positive  Leibniz cookies are truly my favorite, beyond ...\n",
       "44280  positive  We bought these chips at a little sandwich sho...\n",
       "27925  positive  I consider myself something of a chocolate con..."
      ]
     },
     "execution_count": 2,
     "metadata": {},
     "output_type": "execute_result"
    }
   ],
   "source": [
    "df = pd.read_csv(\"../TM/data/en-sentiment/amazon_reviews_train.csv\", encoding=\"utf-8\")\n",
    "df_test = pd.read_csv(\"../TM/data/en-sentiment/amazon_reviews_test.csv\", encoding=\"utf-8\")\n",
    "df.sample(5)"
   ]
  },
  {
   "cell_type": "markdown",
   "metadata": {},
   "source": [
    "### Funções"
   ]
  },
  {
   "cell_type": "code",
   "execution_count": 3,
   "metadata": {},
   "outputs": [],
   "source": [
    "# https://medium.com/@jorlugaqui/how-to-strip-html-tags-from-a-string-in-python-7cb81a2bbf44\n",
    "\n",
    "def remover_tag_html(text):\n",
    "    \"\"\"Function that removes html tags\"\"\"\n",
    "    clean = re.compile('<.*?>')\n",
    "    return re.sub(clean, '', text)"
   ]
  },
  {
   "cell_type": "code",
   "execution_count": 4,
   "metadata": {},
   "outputs": [
    {
     "name": "stdout",
     "output_type": "stream",
     "text": [
      "Help on function remover_tag_html in module __main__:\n",
      "\n",
      "remover_tag_html(text)\n",
      "    Function that removes html tags\n",
      "\n"
     ]
    }
   ],
   "source": [
    "help(remover_tag_html)"
   ]
  },
  {
   "cell_type": "code",
   "execution_count": 5,
   "metadata": {},
   "outputs": [],
   "source": [
    "def plot_Cloud(wordCloud, name):\n",
    "    plt.figure( figsize=(20,10), facecolor='k')\n",
    "    plt.imshow(wordCloud)\n",
    "    plt.axis(\"off\")\n",
    "    plt.tight_layout(pad=0)\n",
    "    plt.show()\n",
    "    name = name + \".png\"\n",
    "    plt.savefig(name, facecolor='k', bbox_inches='tight')"
   ]
  },
  {
   "cell_type": "code",
   "execution_count": 6,
   "metadata": {},
   "outputs": [],
   "source": [
    "def stemming(tokens):\n",
    "    ps=PorterStemmer()\n",
    "    stem_words=[]\n",
    "    for x in tokens:\n",
    "        stem_words.append(ps.stem(x))\n",
    "    return stem_words"
   ]
  },
  {
   "cell_type": "code",
   "execution_count": 7,
   "metadata": {},
   "outputs": [],
   "source": [
    "def create_bag_Word_Corpus(df, column_name):\n",
    "    words_corpus = []\n",
    "    for val in df[column_name]:\n",
    "        text = remover_tag_html(val)\n",
    "        text = text.lower()\n",
    "        tokens = nltk.word_tokenize(text)\n",
    "        tokens = [word for word in tokens if word not in string.punctuation]\n",
    "        tokens = [word for word in tokens if word not in stopwords.words('english')]\n",
    "        tokens = stemming(tokens)\n",
    "        words_corpus.append(tokens)\n",
    "    return words_corpus"
   ]
  },
  {
   "cell_type": "code",
   "execution_count": 8,
   "metadata": {},
   "outputs": [],
   "source": [
    "def summary_dataset(df, df_test):\n",
    "    count_pos_train = df.loc[df.sentiment=='positive', 'sentiment'].count()\n",
    "    count_neg_train = df.loc[df.sentiment=='negative', 'sentiment'].count()\n",
    "    count_pos_test = df_test.loc[df_test.sentiment=='positive', 'sentiment'].count()\n",
    "    count_neg_test = df_test.loc[df_test.sentiment=='negative', 'sentiment'].count()\n",
    "    total_train = len(df)\n",
    "    total_test = len(df_test)\n",
    "    total = total_train + total_test\n",
    "    print(f\"Treino (positivo): {count_pos_train} - {round(100 * count_pos_train / total_train,2)}% \\\n",
    "          \\nTreino (negativo): {count_neg_train} - {round(100 * count_neg_train / total_train,2)}% \\\n",
    "          \\nTotal Treino: {total_train} - {round(100 * total_train / total,2)}% \\\n",
    "          \\n \\\n",
    "          \\nTeste (positivo): {count_pos_test} - {round(100 * count_pos_test / total_test,2)}% \\\n",
    "          \\nTeste (negativo): {count_neg_test} - {round(100 * count_neg_test / total_test,2)}% \\\n",
    "          \\nTotal Teste: {total_test} - {round(100 * total_test / total,2)}% \\\n",
    "          \\n \\\n",
    "          \\nTotal: {total}\")"
   ]
  },
  {
   "cell_type": "code",
   "execution_count": 9,
   "metadata": {},
   "outputs": [],
   "source": [
    "#https://stackoverflow.com/questions/43485469/apply-textblob-in-for-each-row-of-a-dataframe\n",
    "#https://textblob.readthedocs.io/en/dev/quickstart.html#sentiment-analysis\n",
    "#https://pandas.pydata.org/docs/reference/api/pandas.DataFrame.apply.html\n",
    "\n",
    "# Decidimos usar o ZERO como review positivo\n",
    "\n",
    "def sentiment_calc(text):\n",
    "    try:\n",
    "        sentiment_binary = 'negative' if TextBlob(text).sentiment.polarity < 0 else 'positive'\n",
    "        return sentiment_binary\n",
    "    except:\n",
    "        return None"
   ]
  },
  {
   "cell_type": "code",
   "execution_count": 46,
   "metadata": {},
   "outputs": [],
   "source": [
    "def sentiment_to_binary_n(sentiment):\n",
    "    try:\n",
    "        sentiment_to_binary_n = 1 if sentiment == 'positive' else 0\n",
    "        return sentiment_to_binary_n\n",
    "    except:\n",
    "        return None"
   ]
  },
  {
   "cell_type": "code",
   "execution_count": 10,
   "metadata": {},
   "outputs": [],
   "source": [
    "def sentiment_lex(df, column, blindneg):\n",
    "    sentiment_lex = []\n",
    "    for x in df[column]:\n",
    "        result = ''\n",
    "        sentiment_score = sum(lex[i] for i in x if i in lex)\n",
    "        result = 'positive' if sentiment_score >= 0 else 'negative'\n",
    "        if blindneg is True:\n",
    "            #result = 'negative' if any(elem in x for elem in [\"not\", \"n't\"])\n",
    "            if any(elem in x for elem in [\"not\", \"n't\"]):\n",
    "                result = 'negative'\n",
    "        sentiment_lex.append(result)\n",
    "    return sentiment_lex"
   ]
  },
  {
   "cell_type": "code",
   "execution_count": 11,
   "metadata": {},
   "outputs": [],
   "source": [
    "#https://medium.com/analytics-vidhya/sentiment-analysis-movies-reviews-b299de4bb1aa\n",
    "def plot_confusion_matrix_accurancy(col_pred, col_actual):\n",
    "    cm = confusion_matrix(df[col_pred], df[col_actual], labels=['positive', 'negative'])\n",
    "    \n",
    "    plt.figure(figsize = (5,5))\n",
    "    sns.heatmap(cm,cmap= \"Blues\", \n",
    "                linecolor = 'black', \n",
    "                linewidth = 1, \n",
    "                annot = True, \n",
    "                fmt='', \n",
    "                xticklabels = ['Negative','Positive'], \n",
    "                yticklabels = ['Negative','Positive'])\n",
    "    plt.xlabel(\"Predicted\")\n",
    "    plt.ylabel(\"Actual\")\n",
    "    plt.show()\n",
    "    \n",
    "    score = accuracy_score(df[col_pred], df[col_actual])\n",
    "    return print(\"accuracy:   %0.3f\" % score)"
   ]
  },
  {
   "cell_type": "code",
   "execution_count": 71,
   "metadata": {},
   "outputs": [],
   "source": [
    "#https://kavita-ganesan.com/tfidftransformer-tfidfvectorizer-usage-differences/#.Yj-znufP2Mo\n",
    "def tfidf(df, column):\n",
    "    tfidf.tfidf_vectorizer=TfidfVectorizer(use_idf=True)\n",
    "    tfidf_vectorizer_vectors=tfidf_vectorizer.fit_transform(df[column])\n",
    "    return tfidf_vectorizer_vectors"
   ]
  },
  {
   "cell_type": "code",
   "execution_count": 77,
   "metadata": {},
   "outputs": [],
   "source": [
    "def relatorio_modelo(df, column, y_pred, dim):\n",
    "    print(\"Pontos rotulados incorretamente: %d de %d\"% ((df[column]!=y_pred).sum(), dim))\n",
    "    print(\"Accuracy: \", metrics.accuracy_score(df[column], y_pred))\n",
    "    print(\"Precision: \", metrics.precision_score(df[column], y_pred, average=\"macro\"))\n",
    "    print(\"Recall: \", metrics.recall_score(df[column], y_pred, average=\"macro\"))\n",
    "    print(\"F1-measure: \", metrics.f1_score(df[column], y_pred, average=\"macro\"))"
   ]
  },
  {
   "cell_type": "code",
   "execution_count": 78,
   "metadata": {},
   "outputs": [],
   "source": [
    "def multinomial_nb(df, column, tfidf_vectorizer_vectors):\n",
    "    nb = MultinomialNB()\n",
    "    model = nb.fit(tfidf_vectorizer_vectors, df[column])\n",
    "    y_pred = model.predict(tfidf_vectorizer_vectors)\n",
    "    relatorio_modelo(df, column, y_pred, tfidf_vectorizer_vectors.shape[0])"
   ]
  },
  {
   "cell_type": "code",
   "execution_count": 86,
   "metadata": {},
   "outputs": [],
   "source": [
    "#https://stackoverflow.com/questions/62658215/convergencewarning-lbfgs-failed-to-converge-status-1-stop-total-no-of-iter\n",
    "def logistic_regression(df, column, tfidf_vectorizer_vectors):\n",
    "    lr = LogisticRegression(solver='lbfgs', max_iter=200)\n",
    "    model = lr.fit(tfidf_vectorizer_vectors, df[column])\n",
    "    y_pred = model.predict(tfidf_vectorizer_vectors)\n",
    "    relatorio_modelo(df, column, y_pred, tfidf_vectorizer_vectors.shape[0])"
   ]
  },
  {
   "cell_type": "code",
   "execution_count": 89,
   "metadata": {},
   "outputs": [],
   "source": [
    "def linear_svc(df, column, tfidf_vectorizer_vectors):\n",
    "    svmc = LinearSVC(max_iter=500)\n",
    "    model = svmc.fit(tfidf_vectorizer_vectors, df[column])\n",
    "    y_pred = model.predict(tfidf_vectorizer_vectors)\n",
    "    relatorio_modelo(df, column, y_pred, tfidf_vectorizer_vectors.shape[0])"
   ]
  },
  {
   "cell_type": "markdown",
   "metadata": {},
   "source": [
    "### Análise Exploratória dos Dados"
   ]
  },
  {
   "cell_type": "code",
   "execution_count": 12,
   "metadata": {},
   "outputs": [
    {
     "name": "stdout",
     "output_type": "stream",
     "text": [
      "Valores de treino duplicados: 3531 \n",
      "Valores de teste duplicados: 25 \n"
     ]
    }
   ],
   "source": [
    "print(f\"Valores de treino duplicados: {df.duplicated().sum()} \")\n",
    "print(f\"Valores de teste duplicados: {df_test.duplicated().sum()} \")"
   ]
  },
  {
   "cell_type": "code",
   "execution_count": 13,
   "metadata": {},
   "outputs": [
    {
     "name": "stdout",
     "output_type": "stream",
     "text": [
      "Treino (positivo): 37835 - 77.37%           \n",
      "Treino (negativo): 11067 - 22.63%           \n",
      "Total Treino: 48902 - 95.29%           \n",
      "           \n",
      "Teste (positivo): 1676 - 69.34%           \n",
      "Teste (negativo): 741 - 30.66%           \n",
      "Total Teste: 2417 - 4.71%           \n",
      "           \n",
      "Total: 51319\n"
     ]
    }
   ],
   "source": [
    "summary_dataset(df, df_test)"
   ]
  },
  {
   "cell_type": "code",
   "execution_count": 14,
   "metadata": {},
   "outputs": [
    {
     "name": "stdout",
     "output_type": "stream",
     "text": [
      "Treino (positivo): 35363 - 77.94%           \n",
      "Treino (negativo): 10008 - 22.06%           \n",
      "Total Treino: 45371 - 94.99%           \n",
      "           \n",
      "Teste (positivo): 1667 - 69.69%           \n",
      "Teste (negativo): 725 - 30.31%           \n",
      "Total Teste: 2392 - 5.01%           \n",
      "           \n",
      "Total: 47763\n"
     ]
    }
   ],
   "source": [
    "df = df.drop_duplicates()\n",
    "df_test = df_test.drop_duplicates()\n",
    "summary_dataset(df, df_test)"
   ]
  },
  {
   "cell_type": "markdown",
   "metadata": {},
   "source": [
    "Foram encontrados registos duplicados, como a proporção entre os reviews positivos e negativos não se alteraram, decidimos então remover os registos duplicados"
   ]
  },
  {
   "cell_type": "markdown",
   "metadata": {},
   "source": [
    "### Baseline"
   ]
  },
  {
   "cell_type": "code",
   "execution_count": 15,
   "metadata": {},
   "outputs": [],
   "source": [
    "df['sentiment_calculated'] = df['review'].apply(sentiment_calc)"
   ]
  },
  {
   "cell_type": "code",
   "execution_count": 16,
   "metadata": {},
   "outputs": [
    {
     "data": {
      "text/html": [
       "<div>\n",
       "<style scoped>\n",
       "    .dataframe tbody tr th:only-of-type {\n",
       "        vertical-align: middle;\n",
       "    }\n",
       "\n",
       "    .dataframe tbody tr th {\n",
       "        vertical-align: top;\n",
       "    }\n",
       "\n",
       "    .dataframe thead th {\n",
       "        text-align: right;\n",
       "    }\n",
       "</style>\n",
       "<table border=\"1\" class=\"dataframe\">\n",
       "  <thead>\n",
       "    <tr style=\"text-align: right;\">\n",
       "      <th></th>\n",
       "      <th>sentiment</th>\n",
       "      <th>review</th>\n",
       "      <th>sentiment_calculated</th>\n",
       "    </tr>\n",
       "  </thead>\n",
       "  <tbody>\n",
       "    <tr>\n",
       "      <th>6383</th>\n",
       "      <td>negative</td>\n",
       "      <td>I have orderred Jeremiah's Pick Coffee Organic...</td>\n",
       "      <td>negative</td>\n",
       "    </tr>\n",
       "    <tr>\n",
       "      <th>36370</th>\n",
       "      <td>positive</td>\n",
       "      <td>This cereal is very tasty and was liked by chi...</td>\n",
       "      <td>positive</td>\n",
       "    </tr>\n",
       "    <tr>\n",
       "      <th>22682</th>\n",
       "      <td>positive</td>\n",
       "      <td>This tea is the best ever and it is always del...</td>\n",
       "      <td>positive</td>\n",
       "    </tr>\n",
       "    <tr>\n",
       "      <th>29200</th>\n",
       "      <td>negative</td>\n",
       "      <td>While the Almond taste is on point, the chocol...</td>\n",
       "      <td>positive</td>\n",
       "    </tr>\n",
       "    <tr>\n",
       "      <th>4415</th>\n",
       "      <td>positive</td>\n",
       "      <td>100% of what you want, 0% of what you don't is...</td>\n",
       "      <td>positive</td>\n",
       "    </tr>\n",
       "    <tr>\n",
       "      <th>18804</th>\n",
       "      <td>positive</td>\n",
       "      <td>These bars have a great taste!  Just the right...</td>\n",
       "      <td>positive</td>\n",
       "    </tr>\n",
       "    <tr>\n",
       "      <th>10666</th>\n",
       "      <td>positive</td>\n",
       "      <td>THIS HAS BEEN MY FAVORITE COFFEE SINCE DAY ONE...</td>\n",
       "      <td>positive</td>\n",
       "    </tr>\n",
       "    <tr>\n",
       "      <th>20483</th>\n",
       "      <td>positive</td>\n",
       "      <td>Love this stuff.  On eggrolls or anything asia...</td>\n",
       "      <td>positive</td>\n",
       "    </tr>\n",
       "    <tr>\n",
       "      <th>24146</th>\n",
       "      <td>positive</td>\n",
       "      <td>These cookies were deliciousness personified-a...</td>\n",
       "      <td>positive</td>\n",
       "    </tr>\n",
       "    <tr>\n",
       "      <th>35385</th>\n",
       "      <td>positive</td>\n",
       "      <td>I am a good cook, but not when it comes to doi...</td>\n",
       "      <td>positive</td>\n",
       "    </tr>\n",
       "  </tbody>\n",
       "</table>\n",
       "</div>"
      ],
      "text/plain": [
       "      sentiment                                             review  \\\n",
       "6383   negative  I have orderred Jeremiah's Pick Coffee Organic...   \n",
       "36370  positive  This cereal is very tasty and was liked by chi...   \n",
       "22682  positive  This tea is the best ever and it is always del...   \n",
       "29200  negative  While the Almond taste is on point, the chocol...   \n",
       "4415   positive  100% of what you want, 0% of what you don't is...   \n",
       "18804  positive  These bars have a great taste!  Just the right...   \n",
       "10666  positive  THIS HAS BEEN MY FAVORITE COFFEE SINCE DAY ONE...   \n",
       "20483  positive  Love this stuff.  On eggrolls or anything asia...   \n",
       "24146  positive  These cookies were deliciousness personified-a...   \n",
       "35385  positive  I am a good cook, but not when it comes to doi...   \n",
       "\n",
       "      sentiment_calculated  \n",
       "6383              negative  \n",
       "36370             positive  \n",
       "22682             positive  \n",
       "29200             positive  \n",
       "4415              positive  \n",
       "18804             positive  \n",
       "10666             positive  \n",
       "20483             positive  \n",
       "24146             positive  \n",
       "35385             positive  "
      ]
     },
     "execution_count": 16,
     "metadata": {},
     "output_type": "execute_result"
    }
   ],
   "source": [
    "df.sample(10)"
   ]
  },
  {
   "cell_type": "code",
   "execution_count": 17,
   "metadata": {},
   "outputs": [
    {
     "data": {
      "image/png": "[encoded data removed]",
      "text/plain": [
       "<Figure size 500x500 with 2 Axes>"
      ]
     },
     "metadata": {},
     "output_type": "display_data"
    },
    {
     "name": "stdout",
     "output_type": "stream",
     "text": [
      "accuracy:   0.817\n"
     ]
    }
   ],
   "source": [
    "plot_confusion_matrix_accurancy('sentiment', 'sentiment_calculated')"
   ]
  },
  {
   "cell_type": "markdown",
   "metadata": {},
   "source": [
    "### Aplicação de um léxico de sentimentos"
   ]
  },
  {
   "cell_type": "code",
   "execution_count": 18,
   "metadata": {
    "tags": []
   },
   "outputs": [],
   "source": [
    "lex = pd.read_csv(\"../TM/data/en/NCR-lexicon.csv\", encoding=\"utf-8\")\n",
    "lex.set_index(\"English\", inplace=True)\n",
    "lex = lex['Positive'] - lex['Negative']\n",
    "lex = lex.to_dict()"
   ]
  },
  {
   "cell_type": "code",
   "execution_count": 19,
   "metadata": {},
   "outputs": [],
   "source": [
    "df['bag'] = create_bag_Word_Corpus(df, 'review')"
   ]
  },
  {
   "cell_type": "markdown",
   "metadata": {},
   "source": [
    "#### Sem tratamento da negação"
   ]
  },
  {
   "cell_type": "code",
   "execution_count": 20,
   "metadata": {},
   "outputs": [
    {
     "data": {
      "image/png": "[encoded data removed]",
      "text/plain": [
       "<Figure size 500x500 with 2 Axes>"
      ]
     },
     "metadata": {},
     "output_type": "display_data"
    },
    {
     "name": "stdout",
     "output_type": "stream",
     "text": [
      "accuracy:   0.763\n"
     ]
    }
   ],
   "source": [
    "df['sentiment_lex'] = sentiment_lex(df, 'bag', blindneg=False)\n",
    "plot_confusion_matrix_accurancy('sentiment', 'sentiment_lex')"
   ]
  },
  {
   "cell_type": "markdown",
   "metadata": {},
   "source": [
    "#### Com tratamento da negação"
   ]
  },
  {
   "cell_type": "code",
   "execution_count": 21,
   "metadata": {},
   "outputs": [
    {
     "data": {
      "image/png": "[encoded data removed]",
      "text/plain": [
       "<Figure size 500x500 with 2 Axes>"
      ]
     },
     "metadata": {},
     "output_type": "display_data"
    },
    {
     "name": "stdout",
     "output_type": "stream",
     "text": [
      "accuracy:   0.614\n"
     ]
    }
   ],
   "source": [
    "df['sentiment_lex_bn'] = sentiment_lex(df, 'bag', blindneg=True)\n",
    "plot_confusion_matrix_accurancy('sentiment', 'sentiment_lex_bn')"
   ]
  },
  {
   "cell_type": "markdown",
   "metadata": {},
   "source": [
    "### Aprendizagem automática"
   ]
  },
  {
   "cell_type": "markdown",
   "metadata": {},
   "source": [
    "#### Features:\n",
    "\n",
    "- Maiúsculas e minúsculas\n",
    "- Minúsculas\n",
    "- Normalização de palavras\n",
    "- Steaming\n",
    "- Com e sem part-of-speach\n",
    "- Entidades mencionadas\n",
    "- GloVe (embeddings)\n",
    "\n",
    "Possible Improvements\n",
    "* Filtering\n",
    "* Part of Speech Tag Filter\n",
    "* Chunks (Parsing)\n",
    "* NER\n",
    "\n",
    "#### Models to test:\n",
    "\n",
    "- Naive Bayes\n",
    "- LDA\n",
    "- LSA\n",
    "- Chunking\n",
    "- Coherence Models\n",
    "- Logistic Regression\n",
    "- Support Vector Machine (SVM)\n",
    "- Multinomial Naive Bayes\n",
    "- Text Classification"
   ]
  },
  {
   "cell_type": "markdown",
   "metadata": {},
   "source": [
    "### Preparação dos Dados"
   ]
  },
  {
   "cell_type": "code",
   "execution_count": 47,
   "metadata": {},
   "outputs": [],
   "source": [
    "df['sentiment_to_binary_n'] = df['sentiment'].apply(sentiment_to_binary_n)"
   ]
  },
  {
   "cell_type": "code",
   "execution_count": 70,
   "metadata": {},
   "outputs": [],
   "source": [
    "tfidf_vectorizer_vectors=tfidf(df,'review')"
   ]
  },
  {
   "cell_type": "code",
   "execution_count": 90,
   "metadata": {},
   "outputs": [
    {
     "data": {
      "text/html": [
       "<div>\n",
       "<style scoped>\n",
       "    .dataframe tbody tr th:only-of-type {\n",
       "        vertical-align: middle;\n",
       "    }\n",
       "\n",
       "    .dataframe tbody tr th {\n",
       "        vertical-align: top;\n",
       "    }\n",
       "\n",
       "    .dataframe thead th {\n",
       "        text-align: right;\n",
       "    }\n",
       "</style>\n",
       "<table border=\"1\" class=\"dataframe\">\n",
       "  <thead>\n",
       "    <tr style=\"text-align: right;\">\n",
       "      <th></th>\n",
       "      <th>sentiment</th>\n",
       "      <th>review</th>\n",
       "      <th>sentiment_calculated</th>\n",
       "      <th>bag</th>\n",
       "      <th>sentiment_lex</th>\n",
       "      <th>sentiment_lex_bn</th>\n",
       "      <th>sentiment_to_binary_n</th>\n",
       "    </tr>\n",
       "  </thead>\n",
       "  <tbody>\n",
       "    <tr>\n",
       "      <th>36311</th>\n",
       "      <td>positive</td>\n",
       "      <td>The packaging for Kellogg's new CRUNCHY NUT ce...</td>\n",
       "      <td>positive</td>\n",
       "      <td>[packag, kellogg, 's, new, crunchi, nut, cerea...</td>\n",
       "      <td>positive</td>\n",
       "      <td>positive</td>\n",
       "      <td>1</td>\n",
       "    </tr>\n",
       "    <tr>\n",
       "      <th>44152</th>\n",
       "      <td>positive</td>\n",
       "      <td>I enjoy this coffee occationally, but the offi...</td>\n",
       "      <td>positive</td>\n",
       "      <td>[enjoy, coffe, occat, offic, split, right, mid...</td>\n",
       "      <td>positive</td>\n",
       "      <td>positive</td>\n",
       "      <td>1</td>\n",
       "    </tr>\n",
       "    <tr>\n",
       "      <th>956</th>\n",
       "      <td>positive</td>\n",
       "      <td>I like the concept, and I like Asian food, but...</td>\n",
       "      <td>negative</td>\n",
       "      <td>[like, concept, like, asian, food, ``, roast, ...</td>\n",
       "      <td>positive</td>\n",
       "      <td>negative</td>\n",
       "      <td>1</td>\n",
       "    </tr>\n",
       "    <tr>\n",
       "      <th>6242</th>\n",
       "      <td>negative</td>\n",
       "      <td>I was very dissapointed with this fondant. I d...</td>\n",
       "      <td>positive</td>\n",
       "      <td>[dissapoint, fondant, decid, tri, first, time,...</td>\n",
       "      <td>positive</td>\n",
       "      <td>positive</td>\n",
       "      <td>0</td>\n",
       "    </tr>\n",
       "    <tr>\n",
       "      <th>25871</th>\n",
       "      <td>positive</td>\n",
       "      <td>Seriously good Jerky. There is Cheaper Jerky, ...</td>\n",
       "      <td>positive</td>\n",
       "      <td>[serious, good, jerki, cheaper, jerki, better,...</td>\n",
       "      <td>positive</td>\n",
       "      <td>positive</td>\n",
       "      <td>1</td>\n",
       "    </tr>\n",
       "    <tr>\n",
       "      <th>35064</th>\n",
       "      <td>negative</td>\n",
       "      <td>Hellmans no longer tastes like it used to. I r...</td>\n",
       "      <td>negative</td>\n",
       "      <td>[hellman, longer, tast, like, use, read, anoth...</td>\n",
       "      <td>positive</td>\n",
       "      <td>positive</td>\n",
       "      <td>0</td>\n",
       "    </tr>\n",
       "    <tr>\n",
       "      <th>33270</th>\n",
       "      <td>negative</td>\n",
       "      <td>Very disappointed.  Made my cat sick.  Total w...</td>\n",
       "      <td>negative</td>\n",
       "      <td>[disappoint, made, cat, sick, total, wast, mon...</td>\n",
       "      <td>positive</td>\n",
       "      <td>negative</td>\n",
       "      <td>0</td>\n",
       "    </tr>\n",
       "    <tr>\n",
       "      <th>44817</th>\n",
       "      <td>positive</td>\n",
       "      <td>If you're out there looking for a tea that can...</td>\n",
       "      <td>positive</td>\n",
       "      <td>['re, look, tea, rival, coffe, like, black, te...</td>\n",
       "      <td>positive</td>\n",
       "      <td>negative</td>\n",
       "      <td>1</td>\n",
       "    </tr>\n",
       "    <tr>\n",
       "      <th>29781</th>\n",
       "      <td>positive</td>\n",
       "      <td>Being a longtime tea drinker, I was surprised ...</td>\n",
       "      <td>positive</td>\n",
       "      <td>[longtim, tea, drinker, surpris, found, good, ...</td>\n",
       "      <td>positive</td>\n",
       "      <td>negative</td>\n",
       "      <td>1</td>\n",
       "    </tr>\n",
       "    <tr>\n",
       "      <th>14769</th>\n",
       "      <td>negative</td>\n",
       "      <td>So I had a big problem this season with rabbit...</td>\n",
       "      <td>positive</td>\n",
       "      <td>[big, problem, season, rabbit, eat, hosta, lil...</td>\n",
       "      <td>positive</td>\n",
       "      <td>negative</td>\n",
       "      <td>0</td>\n",
       "    </tr>\n",
       "  </tbody>\n",
       "</table>\n",
       "</div>"
      ],
      "text/plain": [
       "      sentiment                                             review  \\\n",
       "36311  positive  The packaging for Kellogg's new CRUNCHY NUT ce...   \n",
       "44152  positive  I enjoy this coffee occationally, but the offi...   \n",
       "956    positive  I like the concept, and I like Asian food, but...   \n",
       "6242   negative  I was very dissapointed with this fondant. I d...   \n",
       "25871  positive  Seriously good Jerky. There is Cheaper Jerky, ...   \n",
       "35064  negative  Hellmans no longer tastes like it used to. I r...   \n",
       "33270  negative  Very disappointed.  Made my cat sick.  Total w...   \n",
       "44817  positive  If you're out there looking for a tea that can...   \n",
       "29781  positive  Being a longtime tea drinker, I was surprised ...   \n",
       "14769  negative  So I had a big problem this season with rabbit...   \n",
       "\n",
       "      sentiment_calculated                                                bag  \\\n",
       "36311             positive  [packag, kellogg, 's, new, crunchi, nut, cerea...   \n",
       "44152             positive  [enjoy, coffe, occat, offic, split, right, mid...   \n",
       "956               negative  [like, concept, like, asian, food, ``, roast, ...   \n",
       "6242              positive  [dissapoint, fondant, decid, tri, first, time,...   \n",
       "25871             positive  [serious, good, jerki, cheaper, jerki, better,...   \n",
       "35064             negative  [hellman, longer, tast, like, use, read, anoth...   \n",
       "33270             negative  [disappoint, made, cat, sick, total, wast, mon...   \n",
       "44817             positive  ['re, look, tea, rival, coffe, like, black, te...   \n",
       "29781             positive  [longtim, tea, drinker, surpris, found, good, ...   \n",
       "14769             positive  [big, problem, season, rabbit, eat, hosta, lil...   \n",
       "\n",
       "      sentiment_lex sentiment_lex_bn  sentiment_to_binary_n  \n",
       "36311      positive         positive                      1  \n",
       "44152      positive         positive                      1  \n",
       "956        positive         negative                      1  \n",
       "6242       positive         positive                      0  \n",
       "25871      positive         positive                      1  \n",
       "35064      positive         positive                      0  \n",
       "33270      positive         negative                      0  \n",
       "44817      positive         negative                      1  \n",
       "29781      positive         negative                      1  \n",
       "14769      positive         negative                      0  "
      ]
     },
     "execution_count": 90,
     "metadata": {},
     "output_type": "execute_result"
    }
   ],
   "source": [
    "df.sample(10)"
   ]
  },
  {
   "cell_type": "code",
   "execution_count": 91,
   "metadata": {},
   "outputs": [
    {
     "name": "stdout",
     "output_type": "stream",
     "text": [
      "Pontos rotulados incorretamente: 9121 de 45371\n",
      "Accuracy:  0.7989685041105552\n",
      "Precision:  0.882819650959084\n",
      "Recall:  0.5453175352430778\n",
      "F1-measure:  0.5263984444083023\n"
     ]
    }
   ],
   "source": [
    "multinomial_nb(df, 'sentiment_to_binary_n', tfidf_vectorizer_vectors)"
   ]
  },
  {
   "cell_type": "code",
   "execution_count": 92,
   "metadata": {},
   "outputs": [
    {
     "name": "stdout",
     "output_type": "stream",
     "text": [
      "Pontos rotulados incorretamente: 4190 de 45371\n",
      "Accuracy:  0.9076502611800489\n",
      "Precision:  0.8946049585775343\n",
      "Recall:  0.8254854392085123\n",
      "F1-measure:  0.8533950287389855\n"
     ]
    }
   ],
   "source": [
    "logistic_regression(df, 'sentiment_to_binary_n', tfidf_vectorizer_vectors)"
   ]
  },
  {
   "cell_type": "code",
   "execution_count": 93,
   "metadata": {},
   "outputs": [
    {
     "name": "stdout",
     "output_type": "stream",
     "text": [
      "Pontos rotulados incorretamente: 2008 de 45371\n",
      "Accuracy:  0.9557426549998898\n",
      "Precision:  0.9453348871454752\n",
      "Recall:  0.9239310457580829\n",
      "F1-measure:  0.9340802881172501\n"
     ]
    }
   ],
   "source": [
    "linear_svc(df, 'sentiment_to_binary_n', tfidf_vectorizer_vectors)"
   ]
  },
  {
   "cell_type": "code",
   "execution_count": null,
   "metadata": {},
   "outputs": [],
   "source": []
  }
 ],
 "metadata": {
  "kernelspec": {
   "display_name": "Python 3",
   "language": "python",
   "name": "python3"
  },
  "language_info": {
   "codemirror_mode": {
    "name": "ipython",
    "version": 3
   },
   "file_extension": ".py",
   "mimetype": "text/x-python",
   "name": "python",
   "nbconvert_exporter": "python",
   "pygments_lexer": "ipython3",
   "version": "3.8.10"
  }
 },
 "nbformat": 4,
 "nbformat_minor": 4
}
