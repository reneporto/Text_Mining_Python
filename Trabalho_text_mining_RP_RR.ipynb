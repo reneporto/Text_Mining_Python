{
 "cells": [
  {
   "cell_type": "markdown",
   "metadata": {},
   "source": [
    "# Text Mining - Análise de Sentimentos dos Reviews da Amazon\n",
    "### René Porto e Ricardo Rolim"
   ]
  },
  {
   "cell_type": "markdown",
   "metadata": {},
   "source": [
    "### Importar ficheiros"
   ]
  },
  {
   "cell_type": "code",
   "execution_count": 238,
   "metadata": {},
   "outputs": [],
   "source": [
    "import os\n",
    "import pandas as pd\n",
    "import numpy as np\n",
    "import nltk\n",
    "import string\n",
    "import re\n",
    "import matplotlib.pyplot as plt\n",
    "import seaborn as sns\n",
    "\n",
    "from wordcloud import WordCloud\n",
    "from nltk.corpus import stopwords\n",
    "from nltk.stem import PorterStemmer\n",
    "from nltk.probability import FreqDist\n",
    "from textblob import TextBlob\n",
    "from sklearn.metrics import confusion_matrix, classification_report, accuracy_score"
   ]
  },
  {
   "cell_type": "code",
   "execution_count": 225,
   "metadata": {},
   "outputs": [
    {
     "data": {
      "text/html": [
       "<div>\n",
       "<style scoped>\n",
       "    .dataframe tbody tr th:only-of-type {\n",
       "        vertical-align: middle;\n",
       "    }\n",
       "\n",
       "    .dataframe tbody tr th {\n",
       "        vertical-align: top;\n",
       "    }\n",
       "\n",
       "    .dataframe thead th {\n",
       "        text-align: right;\n",
       "    }\n",
       "</style>\n",
       "<table border=\"1\" class=\"dataframe\">\n",
       "  <thead>\n",
       "    <tr style=\"text-align: right;\">\n",
       "      <th></th>\n",
       "      <th>sentiment</th>\n",
       "      <th>review</th>\n",
       "    </tr>\n",
       "  </thead>\n",
       "  <tbody>\n",
       "    <tr>\n",
       "      <th>28323</th>\n",
       "      <td>positive</td>\n",
       "      <td>I have been eating Josephs's cookies for many ...</td>\n",
       "    </tr>\n",
       "    <tr>\n",
       "      <th>15908</th>\n",
       "      <td>positive</td>\n",
       "      <td>Our extended family goes through a lot of tea ...</td>\n",
       "    </tr>\n",
       "    <tr>\n",
       "      <th>34743</th>\n",
       "      <td>positive</td>\n",
       "      <td>My 8 year old female Beagle has always had off...</td>\n",
       "    </tr>\n",
       "    <tr>\n",
       "      <th>11943</th>\n",
       "      <td>negative</td>\n",
       "      <td>Item came promptly however the crisps were 3 m...</td>\n",
       "    </tr>\n",
       "    <tr>\n",
       "      <th>28840</th>\n",
       "      <td>positive</td>\n",
       "      <td>These make a great and tasty treat and only 50...</td>\n",
       "    </tr>\n",
       "  </tbody>\n",
       "</table>\n",
       "</div>"
      ],
      "text/plain": [
       "      sentiment                                             review\n",
       "28323  positive  I have been eating Josephs's cookies for many ...\n",
       "15908  positive  Our extended family goes through a lot of tea ...\n",
       "34743  positive  My 8 year old female Beagle has always had off...\n",
       "11943  negative  Item came promptly however the crisps were 3 m...\n",
       "28840  positive  These make a great and tasty treat and only 50..."
      ]
     },
     "execution_count": 225,
     "metadata": {},
     "output_type": "execute_result"
    }
   ],
   "source": [
    "df = pd.read_csv(\"../TM/data/en-sentiment/amazon_reviews_train.csv\", encoding=\"utf-8\")\n",
    "df_test = pd.read_csv(\"../TM/data/en-sentiment/amazon_reviews_test.csv\", encoding=\"utf-8\")\n",
    "df.sample(5)"
   ]
  },
  {
   "cell_type": "markdown",
   "metadata": {},
   "source": [
    "### Funções"
   ]
  },
  {
   "cell_type": "code",
   "execution_count": 226,
   "metadata": {},
   "outputs": [],
   "source": [
    "# https://medium.com/@jorlugaqui/how-to-strip-html-tags-from-a-string-in-python-7cb81a2bbf44\n",
    "\n",
    "def remover_tag_html(text):\n",
    "    clean = re.compile('<.*?>')\n",
    "    return re.sub(clean, '', text)"
   ]
  },
  {
   "cell_type": "code",
   "execution_count": 227,
   "metadata": {},
   "outputs": [],
   "source": [
    "def plot_Cloud(wordCloud, name):\n",
    "    plt.figure( figsize=(20,10), facecolor='k')\n",
    "    plt.imshow(wordCloud)\n",
    "    plt.axis(\"off\")\n",
    "    plt.tight_layout(pad=0)\n",
    "    plt.show()\n",
    "    name = name + \".png\"\n",
    "    plt.savefig(name, facecolor='k', bbox_inches='tight')"
   ]
  },
  {
   "cell_type": "code",
   "execution_count": 228,
   "metadata": {},
   "outputs": [],
   "source": [
    "def stemming(tokens):\n",
    "    ps=PorterStemmer()\n",
    "    stem_words=[]\n",
    "    for x in tokens:\n",
    "        stem_words.append(ps.stem(x))\n",
    "    return stem_words"
   ]
  },
  {
   "cell_type": "code",
   "execution_count": 229,
   "metadata": {},
   "outputs": [],
   "source": [
    "def create_bag_Word_Corpus(df, column_name):\n",
    "    words_corpus = []\n",
    "    for val in df[column_name]:\n",
    "        text = remover_tag_html(val)\n",
    "        text = text.lower()\n",
    "        tokens = nltk.word_tokenize(text)\n",
    "        tokens = [word for word in tokens if word not in string.punctuation]\n",
    "        tokens = [word for word in tokens if word not in stopwords.words('english')]\n",
    "        tokens = stemming(tokens)\n",
    "        words_corpus.append(tokens)\n",
    "    return words_corpus"
   ]
  },
  {
   "cell_type": "code",
   "execution_count": 230,
   "metadata": {},
   "outputs": [],
   "source": [
    "def summary_dataset(df, df_test):\n",
    "    count_pos_train = df.loc[df.sentiment=='positive', 'sentiment'].count()\n",
    "    count_neg_train = df.loc[df.sentiment=='negative', 'sentiment'].count()\n",
    "    count_pos_test = df_test.loc[df_test.sentiment=='positive', 'sentiment'].count()\n",
    "    count_neg_test = df_test.loc[df_test.sentiment=='negative', 'sentiment'].count()\n",
    "    total_train = len(df)\n",
    "    total_test = len(df_test)\n",
    "    total = total_train + total_test\n",
    "    print(f\"Treino (positivo): {count_pos_train} - {round(100 * count_pos_train / total_train,2)}% \\\n",
    "          \\nTreino (negativo): {count_neg_train} - {round(100 * count_neg_train / total_train,2)}% \\\n",
    "          \\nTotal Treino: {total_train} - {round(100 * total_train / total,2)}% \\\n",
    "          \\n \\\n",
    "          \\nTeste (positivo): {count_pos_test} - {round(100 * count_pos_test / total_test,2)}% \\\n",
    "          \\nTeste (negativo): {count_neg_test} - {round(100 * count_neg_test / total_test,2)}% \\\n",
    "          \\nTotal Teste: {total_test} - {round(100 * total_test / total,2)}% \\\n",
    "          \\n \\\n",
    "          \\nTotal: {total}\")"
   ]
  },
  {
   "cell_type": "code",
   "execution_count": 231,
   "metadata": {},
   "outputs": [],
   "source": [
    "#https://stackoverflow.com/questions/43485469/apply-textblob-in-for-each-row-of-a-dataframe\n",
    "#https://textblob.readthedocs.io/en/dev/quickstart.html#sentiment-analysis\n",
    "#https://pandas.pydata.org/docs/reference/api/pandas.DataFrame.apply.html\n",
    "\n",
    "# Decidimos usar o ZERO como review positivo\n",
    "\n",
    "def sentiment_calc(text):\n",
    "    try:\n",
    "        sentiment_binary = 'negative' if TextBlob(text).sentiment.polarity < 0 else 'positive'\n",
    "        return sentiment_binary\n",
    "    except:\n",
    "        return None"
   ]
  },
  {
   "cell_type": "code",
   "execution_count": 351,
   "metadata": {},
   "outputs": [],
   "source": [
    "def sentiment_lex(df, column, blindneg):\n",
    "    sentiment_lex = []\n",
    "    for x in df[column]:\n",
    "        result = ''\n",
    "        sentiment_score = sum(lex[i] for i in x if i in lex)\n",
    "        result = 'positive' if sentiment_score >= 0 else 'negative'\n",
    "        if blindneg is True:\n",
    "            #result = 'negative' if any(elem in x for elem in [\"not\", \"n't\"])\n",
    "            if any(elem in x for elem in [\"not\", \"n't\"]):\n",
    "                result = 'negative'\n",
    "        sentiment_lex.append(result)\n",
    "    return sentiment_lex"
   ]
  },
  {
   "cell_type": "code",
   "execution_count": 303,
   "metadata": {},
   "outputs": [],
   "source": [
    "#https://medium.com/analytics-vidhya/sentiment-analysis-movies-reviews-b299de4bb1aa\n",
    "def plot_confusion_matrix_accurancy(col_pred, col_actual):\n",
    "    cm = confusion_matrix(df[col_pred], df[col_actual], labels=['positive', 'negative'])\n",
    "    \n",
    "    plt.figure(figsize = (5,5))\n",
    "    sns.heatmap(cm,cmap= \"Blues\", \n",
    "                linecolor = 'black', \n",
    "                linewidth = 1, \n",
    "                annot = True, \n",
    "                fmt='', \n",
    "                xticklabels = ['Negative','Positive'], \n",
    "                yticklabels = ['Negative','Positive'])\n",
    "    plt.xlabel(\"Predicted\")\n",
    "    plt.ylabel(\"Actual\")\n",
    "    plt.show()\n",
    "    \n",
    "    score = accuracy_score(df[col_pred], df[col_actual])\n",
    "    return print(\"accuracy:   %0.3f\" % score)"
   ]
  },
  {
   "cell_type": "markdown",
   "metadata": {},
   "source": [
    "### Análise Exploratória dos Dados"
   ]
  },
  {
   "cell_type": "code",
   "execution_count": 232,
   "metadata": {},
   "outputs": [
    {
     "name": "stdout",
     "output_type": "stream",
     "text": [
      "Valores de treino duplicados: 3531 \n",
      "Valores de teste duplicados: 25 \n"
     ]
    }
   ],
   "source": [
    "print(f\"Valores de treino duplicados: {df.duplicated().sum()} \")\n",
    "print(f\"Valores de teste duplicados: {df_test.duplicated().sum()} \")"
   ]
  },
  {
   "cell_type": "code",
   "execution_count": 233,
   "metadata": {},
   "outputs": [
    {
     "name": "stdout",
     "output_type": "stream",
     "text": [
      "Treino (positivo): 37835 - 77.37%           \n",
      "Treino (negativo): 11067 - 22.63%           \n",
      "Total Treino: 48902 - 95.29%           \n",
      "           \n",
      "Teste (positivo): 1676 - 69.34%           \n",
      "Teste (negativo): 741 - 30.66%           \n",
      "Total Teste: 2417 - 4.71%           \n",
      "           \n",
      "Total: 51319\n"
     ]
    }
   ],
   "source": [
    "summary_dataset(df, df_test)"
   ]
  },
  {
   "cell_type": "code",
   "execution_count": 234,
   "metadata": {},
   "outputs": [
    {
     "name": "stdout",
     "output_type": "stream",
     "text": [
      "Treino (positivo): 35363 - 77.94%           \n",
      "Treino (negativo): 10008 - 22.06%           \n",
      "Total Treino: 45371 - 94.99%           \n",
      "           \n",
      "Teste (positivo): 1667 - 69.69%           \n",
      "Teste (negativo): 725 - 30.31%           \n",
      "Total Teste: 2392 - 5.01%           \n",
      "           \n",
      "Total: 47763\n"
     ]
    }
   ],
   "source": [
    "df = df.drop_duplicates()\n",
    "df_test = df_test.drop_duplicates()\n",
    "summary_dataset(df, df_test)"
   ]
  },
  {
   "cell_type": "markdown",
   "metadata": {},
   "source": [
    "Foram encontrados registos duplicados, como a proporção entre os reviews positivos e negativos não se alteraram, decidimos então remover os registos duplicados"
   ]
  },
  {
   "cell_type": "markdown",
   "metadata": {},
   "source": [
    "### Baseline"
   ]
  },
  {
   "cell_type": "code",
   "execution_count": 235,
   "metadata": {},
   "outputs": [],
   "source": [
    "df['sentiment_calculated'] = df['review'].apply(sentiment_calc)"
   ]
  },
  {
   "cell_type": "code",
   "execution_count": 236,
   "metadata": {},
   "outputs": [
    {
     "data": {
      "text/html": [
       "<div>\n",
       "<style scoped>\n",
       "    .dataframe tbody tr th:only-of-type {\n",
       "        vertical-align: middle;\n",
       "    }\n",
       "\n",
       "    .dataframe tbody tr th {\n",
       "        vertical-align: top;\n",
       "    }\n",
       "\n",
       "    .dataframe thead th {\n",
       "        text-align: right;\n",
       "    }\n",
       "</style>\n",
       "<table border=\"1\" class=\"dataframe\">\n",
       "  <thead>\n",
       "    <tr style=\"text-align: right;\">\n",
       "      <th></th>\n",
       "      <th>sentiment</th>\n",
       "      <th>review</th>\n",
       "      <th>sentiment_calculated</th>\n",
       "    </tr>\n",
       "  </thead>\n",
       "  <tbody>\n",
       "    <tr>\n",
       "      <th>32367</th>\n",
       "      <td>positive</td>\n",
       "      <td>This is a quality tea that requires you to fol...</td>\n",
       "      <td>positive</td>\n",
       "    </tr>\n",
       "    <tr>\n",
       "      <th>48326</th>\n",
       "      <td>positive</td>\n",
       "      <td>Not a bad sauce but there does seem to be some...</td>\n",
       "      <td>positive</td>\n",
       "    </tr>\n",
       "    <tr>\n",
       "      <th>21451</th>\n",
       "      <td>positive</td>\n",
       "      <td>I would definitely reccomend these for your do...</td>\n",
       "      <td>positive</td>\n",
       "    </tr>\n",
       "    <tr>\n",
       "      <th>41731</th>\n",
       "      <td>positive</td>\n",
       "      <td>An Italian acquaintance (from Milan) swears by...</td>\n",
       "      <td>positive</td>\n",
       "    </tr>\n",
       "    <tr>\n",
       "      <th>9046</th>\n",
       "      <td>positive</td>\n",
       "      <td>UPDATE June 2009: They changed the recipe so t...</td>\n",
       "      <td>negative</td>\n",
       "    </tr>\n",
       "    <tr>\n",
       "      <th>18199</th>\n",
       "      <td>positive</td>\n",
       "      <td>This food contains all of the good stuff and n...</td>\n",
       "      <td>positive</td>\n",
       "    </tr>\n",
       "    <tr>\n",
       "      <th>35776</th>\n",
       "      <td>negative</td>\n",
       "      <td>Beacuse of terrible packaging the plastic bags...</td>\n",
       "      <td>negative</td>\n",
       "    </tr>\n",
       "    <tr>\n",
       "      <th>38136</th>\n",
       "      <td>positive</td>\n",
       "      <td>The other Greenies flavors are ok.  Other cat ...</td>\n",
       "      <td>positive</td>\n",
       "    </tr>\n",
       "    <tr>\n",
       "      <th>14284</th>\n",
       "      <td>positive</td>\n",
       "      <td>This is my dogs favorite toy. I got this last ...</td>\n",
       "      <td>positive</td>\n",
       "    </tr>\n",
       "    <tr>\n",
       "      <th>45778</th>\n",
       "      <td>positive</td>\n",
       "      <td>This is a powder drink mix that you can add to...</td>\n",
       "      <td>negative</td>\n",
       "    </tr>\n",
       "  </tbody>\n",
       "</table>\n",
       "</div>"
      ],
      "text/plain": [
       "      sentiment                                             review  \\\n",
       "32367  positive  This is a quality tea that requires you to fol...   \n",
       "48326  positive  Not a bad sauce but there does seem to be some...   \n",
       "21451  positive  I would definitely reccomend these for your do...   \n",
       "41731  positive  An Italian acquaintance (from Milan) swears by...   \n",
       "9046   positive  UPDATE June 2009: They changed the recipe so t...   \n",
       "18199  positive  This food contains all of the good stuff and n...   \n",
       "35776  negative  Beacuse of terrible packaging the plastic bags...   \n",
       "38136  positive  The other Greenies flavors are ok.  Other cat ...   \n",
       "14284  positive  This is my dogs favorite toy. I got this last ...   \n",
       "45778  positive  This is a powder drink mix that you can add to...   \n",
       "\n",
       "      sentiment_calculated  \n",
       "32367             positive  \n",
       "48326             positive  \n",
       "21451             positive  \n",
       "41731             positive  \n",
       "9046              negative  \n",
       "18199             positive  \n",
       "35776             negative  \n",
       "38136             positive  \n",
       "14284             positive  \n",
       "45778             negative  "
      ]
     },
     "execution_count": 236,
     "metadata": {},
     "output_type": "execute_result"
    }
   ],
   "source": [
    "df.sample(10)"
   ]
  },
  {
   "cell_type": "code",
   "execution_count": 302,
   "metadata": {},
   "outputs": [
    {
     "data": {
      "image/png": "[encoded data removed]",
      "text/plain": [
       "<Figure size 500x500 with 2 Axes>"
      ]
     },
     "metadata": {},
     "output_type": "display_data"
    },
    {
     "name": "stdout",
     "output_type": "stream",
     "text": [
      "accuracy:   0.817\n"
     ]
    }
   ],
   "source": [
    "plot_confusion_matrix_accurancy('sentiment', 'sentiment_calculated')"
   ]
  },
  {
   "cell_type": "markdown",
   "metadata": {},
   "source": [
    "### Aplicação de um léxico de sentimentos"
   ]
  },
  {
   "cell_type": "code",
   "execution_count": 272,
   "metadata": {
    "tags": []
   },
   "outputs": [],
   "source": [
    "lex = pd.read_csv(\"../TM/data/en/NCR-lexicon.csv\", encoding=\"utf-8\")\n",
    "lex.set_index(\"English\", inplace=True)\n",
    "lex = lex['Positive'] - lex['Negative']\n",
    "lex = lex.to_dict()"
   ]
  },
  {
   "cell_type": "code",
   "execution_count": 273,
   "metadata": {},
   "outputs": [],
   "source": [
    "df['bag'] = create_bag_Word_Corpus(df, 'review')"
   ]
  },
  {
   "cell_type": "markdown",
   "metadata": {},
   "source": [
    "#### Sem tratamento da negação"
   ]
  },
  {
   "cell_type": "code",
   "execution_count": 349,
   "metadata": {},
   "outputs": [
    {
     "data": {
      "image/png": "[encoded data removed]",
      "text/plain": [
       "<Figure size 500x500 with 2 Axes>"
      ]
     },
     "metadata": {},
     "output_type": "display_data"
    },
    {
     "name": "stdout",
     "output_type": "stream",
     "text": [
      "accuracy:   0.763\n"
     ]
    }
   ],
   "source": [
    "df['sentiment_lex'] = sentiment_lex(df, 'bag', blindneg=False)\n",
    "plot_confusion_matrix_accurancy('sentiment', 'sentiment_lex')"
   ]
  },
  {
   "cell_type": "markdown",
   "metadata": {},
   "source": [
    "#### Com tratamento da negação"
   ]
  },
  {
   "cell_type": "code",
   "execution_count": 350,
   "metadata": {},
   "outputs": [
    {
     "data": {
      "image/png": "[encoded data removed]",
      "text/plain": [
       "<Figure size 500x500 with 2 Axes>"
      ]
     },
     "metadata": {},
     "output_type": "display_data"
    },
    {
     "name": "stdout",
     "output_type": "stream",
     "text": [
      "accuracy:   0.614\n"
     ]
    }
   ],
   "source": [
    "df['sentiment_lex_bn'] = sentiment_lex(df, 'bag', blindneg=True)\n",
    "plot_confusion_matrix_accurancy('sentiment', 'sentiment_lex_bn')"
   ]
  }
 ],
 "metadata": {
  "kernelspec": {
   "display_name": "Python 3",
   "language": "python",
   "name": "python3"
  },
  "language_info": {
   "codemirror_mode": {
    "name": "ipython",
    "version": 3
   },
   "file_extension": ".py",
   "mimetype": "text/x-python",
   "name": "python",
   "nbconvert_exporter": "python",
   "pygments_lexer": "ipython3",
   "version": "3.8.10"
  }
 },
 "nbformat": 4,
 "nbformat_minor": 4
}
