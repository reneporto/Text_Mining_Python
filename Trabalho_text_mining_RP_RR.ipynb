{
 "cells": [
  {
   "cell_type": "markdown",
   "metadata": {},
   "source": [
    "# Text Mining - Análise de Sentimentos dos Reviews da Amazon\n",
    "### René Porto e Ricardo Rolim"
   ]
  },
  {
   "cell_type": "markdown",
   "metadata": {},
   "source": [
    "### Importar ficheiros"
   ]
  },
  {
   "cell_type": "code",
   "execution_count": 1,
   "metadata": {},
   "outputs": [
    {
     "name": "stderr",
     "output_type": "stream",
     "text": [
      "[nltk_data] Downloading package omw-1.4 to /home/a101597/nltk_data...\n",
      "[nltk_data]   Package omw-1.4 is already up-to-date!\n"
     ]
    },
    {
     "data": {
      "text/plain": [
       "True"
      ]
     },
     "execution_count": 1,
     "metadata": {},
     "output_type": "execute_result"
    }
   ],
   "source": [
    "import os\n",
    "import pandas as pd\n",
    "import numpy as np\n",
    "import nltk\n",
    "import string\n",
    "import re\n",
    "import matplotlib.pyplot as plt\n",
    "import seaborn as sns\n",
    "import sklearn.metrics as metrics\n",
    "\n",
    "from sklearn.naive_bayes import MultinomialNB\n",
    "from sklearn.naive_bayes import GaussianNB\n",
    "from sklearn.linear_model import LogisticRegression\n",
    "from sklearn.svm import LinearSVC\n",
    "from sklearn.feature_extraction.text import TfidfVectorizer, CountVectorizer\n",
    "\n",
    "from wordcloud import WordCloud\n",
    "from nltk.corpus import stopwords\n",
    "from nltk.stem import PorterStemmer, WordNetLemmatizer\n",
    "\n",
    "from nltk.probability import FreqDist\n",
    "from textblob import TextBlob\n",
    "\n",
    "# preciso destas duas linhas\n",
    "import sklearn.metrics as metrics\n",
    "from sklearn.metrics import confusion_matrix, classification_report, accuracy_score\n",
    "\n",
    "from sklearn.pipeline import Pipeline\n",
    "from sklearn.feature_extraction.text import TfidfTransformer\n",
    "from sklearn.model_selection import GridSearchCV\n",
    "\n",
    "nltk.download('omw-1.4')"
   ]
  },
  {
   "cell_type": "code",
   "execution_count": 2,
   "metadata": {},
   "outputs": [
    {
     "data": {
      "text/html": [
       "<div>\n",
       "<style scoped>\n",
       "    .dataframe tbody tr th:only-of-type {\n",
       "        vertical-align: middle;\n",
       "    }\n",
       "\n",
       "    .dataframe tbody tr th {\n",
       "        vertical-align: top;\n",
       "    }\n",
       "\n",
       "    .dataframe thead th {\n",
       "        text-align: right;\n",
       "    }\n",
       "</style>\n",
       "<table border=\"1\" class=\"dataframe\">\n",
       "  <thead>\n",
       "    <tr style=\"text-align: right;\">\n",
       "      <th></th>\n",
       "      <th>sentiment</th>\n",
       "      <th>review</th>\n",
       "    </tr>\n",
       "  </thead>\n",
       "  <tbody>\n",
       "    <tr>\n",
       "      <th>18198</th>\n",
       "      <td>positive</td>\n",
       "      <td>My dog really loves the Stella and Chewy's fre...</td>\n",
       "    </tr>\n",
       "    <tr>\n",
       "      <th>7526</th>\n",
       "      <td>positive</td>\n",
       "      <td>My kids enjoy The Cocktail Pepsticks  so iI bu...</td>\n",
       "    </tr>\n",
       "    <tr>\n",
       "      <th>16411</th>\n",
       "      <td>positive</td>\n",
       "      <td>being a coffee addict for years and being told...</td>\n",
       "    </tr>\n",
       "    <tr>\n",
       "      <th>593</th>\n",
       "      <td>positive</td>\n",
       "      <td>I don't know how everyone else got these broke...</td>\n",
       "    </tr>\n",
       "    <tr>\n",
       "      <th>45980</th>\n",
       "      <td>positive</td>\n",
       "      <td>We ordered these for a \"Wedding Chapel\" at a c...</td>\n",
       "    </tr>\n",
       "  </tbody>\n",
       "</table>\n",
       "</div>"
      ],
      "text/plain": [
       "      sentiment                                             review\n",
       "18198  positive  My dog really loves the Stella and Chewy's fre...\n",
       "7526   positive  My kids enjoy The Cocktail Pepsticks  so iI bu...\n",
       "16411  positive  being a coffee addict for years and being told...\n",
       "593    positive  I don't know how everyone else got these broke...\n",
       "45980  positive  We ordered these for a \"Wedding Chapel\" at a c..."
      ]
     },
     "execution_count": 2,
     "metadata": {},
     "output_type": "execute_result"
    }
   ],
   "source": [
    "df = pd.read_csv(\"../TM/data/en-sentiment/amazon_reviews_train.csv\", encoding=\"utf-8\")\n",
    "df_test = pd.read_csv(\"../TM/data/en-sentiment/amazon_reviews_test.csv\", encoding=\"utf-8\")\n",
    "df.sample(5)"
   ]
  },
  {
   "cell_type": "markdown",
   "metadata": {},
   "source": [
    "### Funções"
   ]
  },
  {
   "cell_type": "code",
   "execution_count": 3,
   "metadata": {},
   "outputs": [],
   "source": [
    "# https://medium.com/@jorlugaqui/how-to-strip-html-tags-from-a-string-in-python-7cb81a2bbf44\n",
    "\n",
    "def remover_tag_html(text):\n",
    "    \"\"\"\n",
    "    Function that removes html tags\n",
    "    Arguments:\n",
    "        a: text\n",
    "    Return:\n",
    "        text without html tags\n",
    "    \"\"\"\n",
    "    clean = re.compile('<.*?>')\n",
    "    return re.sub(clean, '', text)"
   ]
  },
  {
   "cell_type": "code",
   "execution_count": 4,
   "metadata": {},
   "outputs": [],
   "source": [
    "def stemming(tokens):\n",
    "    \"\"\"\n",
    "    Function that stemms tokens\n",
    "    Arguments:\n",
    "        tokens: list of tokens\n",
    "    Return:\n",
    "        stemmed words\n",
    "    \"\"\"\n",
    "    ps=PorterStemmer()\n",
    "    stem_words=[]\n",
    "    for x in tokens:\n",
    "        stem_words.append(ps.stem(x))\n",
    "    return stem_words"
   ]
  },
  {
   "cell_type": "code",
   "execution_count": 5,
   "metadata": {},
   "outputs": [],
   "source": [
    "def summary_dataset(df, df_test):\n",
    "    \"\"\"\n",
    "    Function that returns a summary of a dataset\n",
    "    Arguments:\n",
    "        df: train dataset\n",
    "        df_test: test dataset\n",
    "    Return:\n",
    "        summary of train and test dataset\n",
    "    \"\"\"\n",
    "    count_pos_train = df.loc[df.sentiment=='positive', 'sentiment'].count()\n",
    "    count_neg_train = df.loc[df.sentiment=='negative', 'sentiment'].count()\n",
    "    count_pos_test = df_test.loc[df_test.sentiment=='positive', 'sentiment'].count()\n",
    "    count_neg_test = df_test.loc[df_test.sentiment=='negative', 'sentiment'].count()\n",
    "    total_train = len(df)\n",
    "    total_test = len(df_test)\n",
    "    total = total_train + total_test\n",
    "    print(f\"Treino (positivo): {count_pos_train} - {round(100 * count_pos_train / total_train,2)}% \\\n",
    "          \\nTreino (negativo): {count_neg_train} - {round(100 * count_neg_train / total_train,2)}% \\\n",
    "          \\nTotal Treino: {total_train} - {round(100 * total_train / total,2)}% \\\n",
    "          \\n \\\n",
    "          \\nTeste (positivo): {count_pos_test} - {round(100 * count_pos_test / total_test,2)}% \\\n",
    "          \\nTeste (negativo): {count_neg_test} - {round(100 * count_neg_test / total_test,2)}% \\\n",
    "          \\nTotal Teste: {total_test} - {round(100 * total_test / total,2)}% \\\n",
    "          \\n \\\n",
    "          \\nTotal: {total}\")"
   ]
  },
  {
   "cell_type": "code",
   "execution_count": 6,
   "metadata": {},
   "outputs": [],
   "source": [
    "#https://stackoverflow.com/questions/43485469/apply-textblob-in-for-each-row-of-a-dataframe\n",
    "#https://textblob.readthedocs.io/en/dev/quickstart.html#sentiment-analysis\n",
    "#https://pandas.pydata.org/docs/reference/api/pandas.DataFrame.apply.html\n",
    "\n",
    "# Decidimos usar o ZERO como review positivo\n",
    "\n",
    "def sentiment_calc(text):\n",
    "    \"\"\"\n",
    "    Function that returns a binary sentiment calculation using TextBlob\n",
    "    Arguments:\n",
    "        text: text\n",
    "    Return:\n",
    "        return a binary sentiment (positivo ou negativo)\n",
    "    \"\"\"\n",
    "    try:\n",
    "        sentiment_binary = TextBlob(text).sentiment.polarity\n",
    "        return sentiment_binary\n",
    "    except:\n",
    "        return None"
   ]
  },
  {
   "cell_type": "code",
   "execution_count": 7,
   "metadata": {},
   "outputs": [],
   "source": [
    "def sentiment_convert(df, column, convert):\n",
    "    \"\"\"\n",
    "    Function that returns a binary sentiment\n",
    "    Arguments:\n",
    "        sentiment: sentiment (positivo ou negativo)\n",
    "    Return:\n",
    "        return a binary sentiment number (positivo = 1 ou negativo = 0)\n",
    "    \"\"\"\n",
    "    label = []\n",
    "    if convert == 0:\n",
    "        for each in df[column]:\n",
    "            if each == 'positive':\n",
    "                label.append(1)\n",
    "            else:\n",
    "                label.append(0)\n",
    "    elif convert == 1:\n",
    "        for each in df[column]:\n",
    "            if each == 1:\n",
    "                label.append('positive')\n",
    "            else:\n",
    "                label.append('negative')\n",
    "    elif convert == 2:\n",
    "        for each in df[column]:\n",
    "            if each >= 0:\n",
    "                label.append('positive')\n",
    "            else:\n",
    "                label.append('negative')\n",
    "    elif convert == 3:\n",
    "        for each in df[column]:\n",
    "            if each >= 0:\n",
    "                label.append(1)\n",
    "            else:\n",
    "                label.append(0)\n",
    "    return label"
   ]
  },
  {
   "cell_type": "code",
   "execution_count": 8,
   "metadata": {},
   "outputs": [],
   "source": [
    "def create_bag_Word_Corpus(df, column_name, neg):\n",
    "    \"\"\"\n",
    "    Function that creates a bag of words, remove html tags, lower case words, tokenize, \n",
    "    remove stop words, stemming, apply negation (optional) and remove punctuation.\n",
    "    Arguments:\n",
    "        df: dataframe\n",
    "        column_name: column to create cleaned bag of words\n",
    "        neg: create a lexo negation (optinal)\n",
    "    Return:\n",
    "        return bag of words\n",
    "    \"\"\"\n",
    "    negation = [\"not\", \"n't\"]\n",
    "    words_corpus  = []\n",
    "    for val in df[column_name]:\n",
    "        sk = False\n",
    "        text = remover_tag_html(val)\n",
    "        text = text.lower()\n",
    "        tokens = nltk.word_tokenize(text)\n",
    "        tokens = [word for word in tokens if word not in stopwords.words('english')]\n",
    "        tokens = stemming(tokens)\n",
    "        if neg is True:\n",
    "            for x, i in enumerate(tokens):\n",
    "                if i in negation:\n",
    "                    sk = True\n",
    "                elif i in string.punctuation:\n",
    "                    sk = False\n",
    "                elif sk is True:\n",
    "                    tokens[x] = \"NOT_\"+i\n",
    "        tokens = [word for word in tokens if word not in string.punctuation]\n",
    "        words_corpus.append(tokens)\n",
    "    return words_corpus"
   ]
  },
  {
   "cell_type": "code",
   "execution_count": 9,
   "metadata": {},
   "outputs": [],
   "source": [
    "def sentiment_lex(df, column_name):\n",
    "    \"\"\"\n",
    "    Function that returns a sentiment from a lexo file\n",
    "    Arguments:\n",
    "        df: dataframe\n",
    "        column_name: column to create cleaned bag of words\n",
    "    Return:\n",
    "        return a binary sentiment (positivo ou negativo)\n",
    "    \"\"\"\n",
    "    sentiment_lex = []\n",
    "    for tokens in df[column_name]:\n",
    "        sentiment_score = sum(lex[x] for x in tokens if x in lex)\n",
    "        result = 'positive' if sentiment_score >= 0 else 'negative'\n",
    "        sentiment_lex.append(result)\n",
    "    return sentiment_lex"
   ]
  },
  {
   "cell_type": "code",
   "execution_count": 10,
   "metadata": {},
   "outputs": [],
   "source": [
    "#https://medium.com/analytics-vidhya/sentiment-analysis-movies-reviews-b299de4bb1aa\n",
    "\n",
    "def plot_confusion_matrix_accuracy(df, col_pred, col_actual):\n",
    "    \"\"\"\n",
    "    Function that returns a confusion matrix and accurancy\n",
    "    Arguments:\n",
    "        col_pred: column that are inserted our prediction\n",
    "        col_actual: label\n",
    "    Return:\n",
    "        return a binary sentiment (positivo ou negativo)\n",
    "    \"\"\"\n",
    "    cm = confusion_matrix(df[col_pred], df[col_actual], labels=['positive', 'negative'])\n",
    "    plt.figure(figsize = (5,5))\n",
    "    sns.heatmap(cm,cmap= \"Blues\", \n",
    "                linecolor = 'black', \n",
    "                linewidth = 1, \n",
    "                annot = True, \n",
    "                fmt='', \n",
    "                xticklabels = ['Negative','Positive'], \n",
    "                yticklabels = ['Negative','Positive'])\n",
    "    plt.xlabel(\"Predicted\")\n",
    "    plt.ylabel(\"Actual\")\n",
    "    plt.show()\n",
    "    \n",
    "    score = accuracy_score(df[col_pred], df[col_actual])\n",
    "    return print(\"accuracy:   %0.3f\" % score)"
   ]
  },
  {
   "cell_type": "markdown",
   "metadata": {},
   "source": [
    "### Análise Exploratória dos Dados"
   ]
  },
  {
   "cell_type": "code",
   "execution_count": 11,
   "metadata": {},
   "outputs": [
    {
     "name": "stdout",
     "output_type": "stream",
     "text": [
      "Valores de treino duplicados: 3531 \n",
      "Valores de teste duplicados: 25 \n"
     ]
    }
   ],
   "source": [
    "print(f\"Valores de treino duplicados: {df.duplicated().sum()} \")\n",
    "print(f\"Valores de teste duplicados: {df_test.duplicated().sum()} \")"
   ]
  },
  {
   "cell_type": "code",
   "execution_count": 12,
   "metadata": {},
   "outputs": [
    {
     "name": "stdout",
     "output_type": "stream",
     "text": [
      "Treino (positivo): 37835 - 77.37%           \n",
      "Treino (negativo): 11067 - 22.63%           \n",
      "Total Treino: 48902 - 95.29%           \n",
      "           \n",
      "Teste (positivo): 1676 - 69.34%           \n",
      "Teste (negativo): 741 - 30.66%           \n",
      "Total Teste: 2417 - 4.71%           \n",
      "           \n",
      "Total: 51319\n"
     ]
    }
   ],
   "source": [
    "summary_dataset(df, df_test)"
   ]
  },
  {
   "cell_type": "code",
   "execution_count": 13,
   "metadata": {},
   "outputs": [
    {
     "name": "stdout",
     "output_type": "stream",
     "text": [
      "Treino (positivo): 35363 - 77.94%           \n",
      "Treino (negativo): 10008 - 22.06%           \n",
      "Total Treino: 45371 - 94.99%           \n",
      "           \n",
      "Teste (positivo): 1667 - 69.69%           \n",
      "Teste (negativo): 725 - 30.31%           \n",
      "Total Teste: 2392 - 5.01%           \n",
      "           \n",
      "Total: 47763\n"
     ]
    }
   ],
   "source": [
    "df = df.drop_duplicates()\n",
    "df_test = df_test.drop_duplicates()\n",
    "summary_dataset(df, df_test)"
   ]
  },
  {
   "cell_type": "markdown",
   "metadata": {},
   "source": [
    "Foram encontrados registos duplicados, como a proporção entre os reviews positivos e negativos não se alteraram, decidimos então remover os registos duplicados"
   ]
  },
  {
   "cell_type": "markdown",
   "metadata": {},
   "source": [
    "### Baseline"
   ]
  },
  {
   "cell_type": "code",
   "execution_count": 14,
   "metadata": {},
   "outputs": [],
   "source": [
    "df['sentiment_calculated'] = df['review'].apply(sentiment_calc)\n",
    "df['sentiment_calculated'] = sentiment_convert(df, 'sentiment_calculated', convert=2)"
   ]
  },
  {
   "cell_type": "code",
   "execution_count": 15,
   "metadata": {},
   "outputs": [
    {
     "data": {
      "text/html": [
       "<div>\n",
       "<style scoped>\n",
       "    .dataframe tbody tr th:only-of-type {\n",
       "        vertical-align: middle;\n",
       "    }\n",
       "\n",
       "    .dataframe tbody tr th {\n",
       "        vertical-align: top;\n",
       "    }\n",
       "\n",
       "    .dataframe thead th {\n",
       "        text-align: right;\n",
       "    }\n",
       "</style>\n",
       "<table border=\"1\" class=\"dataframe\">\n",
       "  <thead>\n",
       "    <tr style=\"text-align: right;\">\n",
       "      <th></th>\n",
       "      <th>sentiment</th>\n",
       "      <th>review</th>\n",
       "      <th>sentiment_calculated</th>\n",
       "    </tr>\n",
       "  </thead>\n",
       "  <tbody>\n",
       "    <tr>\n",
       "      <th>7785</th>\n",
       "      <td>negative</td>\n",
       "      <td>I ordered this saffron after looking at seller...</td>\n",
       "      <td>negative</td>\n",
       "    </tr>\n",
       "    <tr>\n",
       "      <th>25248</th>\n",
       "      <td>positive</td>\n",
       "      <td>This is for serious HP sauce addicts. I admit,...</td>\n",
       "      <td>positive</td>\n",
       "    </tr>\n",
       "    <tr>\n",
       "      <th>9723</th>\n",
       "      <td>positive</td>\n",
       "      <td>This is a great product for people wanting glu...</td>\n",
       "      <td>positive</td>\n",
       "    </tr>\n",
       "    <tr>\n",
       "      <th>38965</th>\n",
       "      <td>negative</td>\n",
       "      <td>This product taste strongly of salt substitute...</td>\n",
       "      <td>negative</td>\n",
       "    </tr>\n",
       "    <tr>\n",
       "      <th>14342</th>\n",
       "      <td>negative</td>\n",
       "      <td>This was a waste of money!  The plastic rope c...</td>\n",
       "      <td>negative</td>\n",
       "    </tr>\n",
       "    <tr>\n",
       "      <th>47278</th>\n",
       "      <td>positive</td>\n",
       "      <td>I can't eat wheat, so this is a life saver for...</td>\n",
       "      <td>positive</td>\n",
       "    </tr>\n",
       "    <tr>\n",
       "      <th>17088</th>\n",
       "      <td>positive</td>\n",
       "      <td>I was really hoping to use this as a substitut...</td>\n",
       "      <td>positive</td>\n",
       "    </tr>\n",
       "    <tr>\n",
       "      <th>28720</th>\n",
       "      <td>positive</td>\n",
       "      <td>My son is now one, and looooves these little p...</td>\n",
       "      <td>positive</td>\n",
       "    </tr>\n",
       "    <tr>\n",
       "      <th>31156</th>\n",
       "      <td>negative</td>\n",
       "      <td>Honestly, I feel terrible writing this review ...</td>\n",
       "      <td>negative</td>\n",
       "    </tr>\n",
       "    <tr>\n",
       "      <th>18108</th>\n",
       "      <td>positive</td>\n",
       "      <td>Product speaks for itself, AWESOME!!!!!!!!!! T...</td>\n",
       "      <td>positive</td>\n",
       "    </tr>\n",
       "  </tbody>\n",
       "</table>\n",
       "</div>"
      ],
      "text/plain": [
       "      sentiment                                             review  \\\n",
       "7785   negative  I ordered this saffron after looking at seller...   \n",
       "25248  positive  This is for serious HP sauce addicts. I admit,...   \n",
       "9723   positive  This is a great product for people wanting glu...   \n",
       "38965  negative  This product taste strongly of salt substitute...   \n",
       "14342  negative  This was a waste of money!  The plastic rope c...   \n",
       "47278  positive  I can't eat wheat, so this is a life saver for...   \n",
       "17088  positive  I was really hoping to use this as a substitut...   \n",
       "28720  positive  My son is now one, and looooves these little p...   \n",
       "31156  negative  Honestly, I feel terrible writing this review ...   \n",
       "18108  positive  Product speaks for itself, AWESOME!!!!!!!!!! T...   \n",
       "\n",
       "      sentiment_calculated  \n",
       "7785              negative  \n",
       "25248             positive  \n",
       "9723              positive  \n",
       "38965             negative  \n",
       "14342             negative  \n",
       "47278             positive  \n",
       "17088             positive  \n",
       "28720             positive  \n",
       "31156             negative  \n",
       "18108             positive  "
      ]
     },
     "execution_count": 15,
     "metadata": {},
     "output_type": "execute_result"
    }
   ],
   "source": [
    "df.sample(10)"
   ]
  },
  {
   "cell_type": "code",
   "execution_count": 16,
   "metadata": {},
   "outputs": [],
   "source": [
    "df_test['sentiment_calculated'] = df_test['review'].apply(sentiment_calc)\n",
    "df_test['sentiment_calculated'] = sentiment_convert(df_test, 'sentiment_calculated', convert=2)"
   ]
  },
  {
   "cell_type": "code",
   "execution_count": 17,
   "metadata": {},
   "outputs": [
    {
     "data": {
      "text/html": [
       "<div>\n",
       "<style scoped>\n",
       "    .dataframe tbody tr th:only-of-type {\n",
       "        vertical-align: middle;\n",
       "    }\n",
       "\n",
       "    .dataframe tbody tr th {\n",
       "        vertical-align: top;\n",
       "    }\n",
       "\n",
       "    .dataframe thead th {\n",
       "        text-align: right;\n",
       "    }\n",
       "</style>\n",
       "<table border=\"1\" class=\"dataframe\">\n",
       "  <thead>\n",
       "    <tr style=\"text-align: right;\">\n",
       "      <th></th>\n",
       "      <th>sentiment</th>\n",
       "      <th>review</th>\n",
       "      <th>sentiment_calculated</th>\n",
       "    </tr>\n",
       "  </thead>\n",
       "  <tbody>\n",
       "    <tr>\n",
       "      <th>1691</th>\n",
       "      <td>positive</td>\n",
       "      <td>This is an intense, rich, flavorful coffee. Wh...</td>\n",
       "      <td>positive</td>\n",
       "    </tr>\n",
       "    <tr>\n",
       "      <th>375</th>\n",
       "      <td>positive</td>\n",
       "      <td>While I wouldn't call this a health food they ...</td>\n",
       "      <td>positive</td>\n",
       "    </tr>\n",
       "    <tr>\n",
       "      <th>518</th>\n",
       "      <td>positive</td>\n",
       "      <td>Perfect mix for me - lots of nuts and dried fr...</td>\n",
       "      <td>positive</td>\n",
       "    </tr>\n",
       "    <tr>\n",
       "      <th>504</th>\n",
       "      <td>positive</td>\n",
       "      <td>I love these! I actually don't care for any ot...</td>\n",
       "      <td>positive</td>\n",
       "    </tr>\n",
       "    <tr>\n",
       "      <th>1231</th>\n",
       "      <td>positive</td>\n",
       "      <td>My cat loves these. She is very small even tho...</td>\n",
       "      <td>negative</td>\n",
       "    </tr>\n",
       "    <tr>\n",
       "      <th>810</th>\n",
       "      <td>positive</td>\n",
       "      <td>I found this product to be a great alternative...</td>\n",
       "      <td>positive</td>\n",
       "    </tr>\n",
       "    <tr>\n",
       "      <th>2349</th>\n",
       "      <td>positive</td>\n",
       "      <td>This candy is hard to find in stores nowadays....</td>\n",
       "      <td>positive</td>\n",
       "    </tr>\n",
       "    <tr>\n",
       "      <th>1748</th>\n",
       "      <td>negative</td>\n",
       "      <td>I was enticed by the cool design - less trash ...</td>\n",
       "      <td>positive</td>\n",
       "    </tr>\n",
       "    <tr>\n",
       "      <th>1617</th>\n",
       "      <td>positive</td>\n",
       "      <td>I am very much enjoying FogChaser.  The flavor...</td>\n",
       "      <td>positive</td>\n",
       "    </tr>\n",
       "    <tr>\n",
       "      <th>73</th>\n",
       "      <td>negative</td>\n",
       "      <td>Even my 8 year old, who was super excited to e...</td>\n",
       "      <td>negative</td>\n",
       "    </tr>\n",
       "  </tbody>\n",
       "</table>\n",
       "</div>"
      ],
      "text/plain": [
       "     sentiment                                             review  \\\n",
       "1691  positive  This is an intense, rich, flavorful coffee. Wh...   \n",
       "375   positive  While I wouldn't call this a health food they ...   \n",
       "518   positive  Perfect mix for me - lots of nuts and dried fr...   \n",
       "504   positive  I love these! I actually don't care for any ot...   \n",
       "1231  positive  My cat loves these. She is very small even tho...   \n",
       "810   positive  I found this product to be a great alternative...   \n",
       "2349  positive  This candy is hard to find in stores nowadays....   \n",
       "1748  negative  I was enticed by the cool design - less trash ...   \n",
       "1617  positive  I am very much enjoying FogChaser.  The flavor...   \n",
       "73    negative  Even my 8 year old, who was super excited to e...   \n",
       "\n",
       "     sentiment_calculated  \n",
       "1691             positive  \n",
       "375              positive  \n",
       "518              positive  \n",
       "504              positive  \n",
       "1231             negative  \n",
       "810              positive  \n",
       "2349             positive  \n",
       "1748             positive  \n",
       "1617             positive  \n",
       "73               negative  "
      ]
     },
     "execution_count": 17,
     "metadata": {},
     "output_type": "execute_result"
    }
   ],
   "source": [
    "df_test.sample(10)"
   ]
  },
  {
   "cell_type": "code",
   "execution_count": 18,
   "metadata": {},
   "outputs": [
    {
     "data": {
      "image/png": "[encoded data removed]",
      "text/plain": [
       "<Figure size 500x500 with 2 Axes>"
      ]
     },
     "metadata": {},
     "output_type": "display_data"
    },
    {
     "name": "stdout",
     "output_type": "stream",
     "text": [
      "accuracy:   0.817\n"
     ]
    }
   ],
   "source": [
    "plot_confusion_matrix_accuracy(df, 'sentiment_calculated', 'sentiment')"
   ]
  },
  {
   "cell_type": "code",
   "execution_count": 19,
   "metadata": {},
   "outputs": [
    {
     "data": {
      "image/png": "[encoded data removed]",
      "text/plain": [
       "<Figure size 500x500 with 2 Axes>"
      ]
     },
     "metadata": {},
     "output_type": "display_data"
    },
    {
     "name": "stdout",
     "output_type": "stream",
     "text": [
      "accuracy:   0.766\n"
     ]
    }
   ],
   "source": [
    "plot_confusion_matrix_accuracy(df_test, 'sentiment_calculated', 'sentiment')"
   ]
  },
  {
   "cell_type": "markdown",
   "metadata": {},
   "source": [
    "### Aplicação de um léxico de sentimentos"
   ]
  },
  {
   "cell_type": "code",
   "execution_count": 20,
   "metadata": {
    "tags": []
   },
   "outputs": [],
   "source": [
    "lex = pd.read_csv(\"../TM/data/en/NCR-lexicon.csv\", encoding=\"utf-8\")\n",
    "lex.set_index(\"English\", inplace=True)\n",
    "lex = lex['Positive'] - lex['Negative']\n",
    "lex = lex.to_dict()"
   ]
  },
  {
   "cell_type": "code",
   "execution_count": 21,
   "metadata": {},
   "outputs": [],
   "source": [
    "df['bag'] = create_bag_Word_Corpus(df, 'review', neg=False)\n",
    "df['bag_neg'] = create_bag_Word_Corpus(df, 'review', neg=True)\n",
    "df['sentiment_lex'] = sentiment_lex(df, 'bag')\n",
    "df['sentiment_lex_neg'] = sentiment_lex(df, 'bag_neg')"
   ]
  },
  {
   "cell_type": "code",
   "execution_count": 22,
   "metadata": {},
   "outputs": [],
   "source": [
    "df_test['bag'] = create_bag_Word_Corpus(df_test, 'review', neg=False)\n",
    "df_test['bag_neg'] = create_bag_Word_Corpus(df_test, 'review', neg=True)\n",
    "df_test['sentiment_lex'] = sentiment_lex(df_test, 'bag')\n",
    "df_test['sentiment_lex_neg'] = sentiment_lex(df_test, 'bag_neg')"
   ]
  },
  {
   "cell_type": "markdown",
   "metadata": {},
   "source": [
    "#### Sem tratamento da negação"
   ]
  },
  {
   "cell_type": "code",
   "execution_count": 23,
   "metadata": {
    "tags": []
   },
   "outputs": [
    {
     "data": {
      "image/png": "[encoded data removed]",
      "text/plain": [
       "<Figure size 500x500 with 2 Axes>"
      ]
     },
     "metadata": {},
     "output_type": "display_data"
    },
    {
     "name": "stdout",
     "output_type": "stream",
     "text": [
      "accuracy:   0.763\n"
     ]
    }
   ],
   "source": [
    "plot_confusion_matrix_accuracy(df, 'sentiment', 'sentiment_lex')"
   ]
  },
  {
   "cell_type": "code",
   "execution_count": 24,
   "metadata": {},
   "outputs": [
    {
     "data": {
      "image/png": "[encoded data removed]",
      "text/plain": [
       "<Figure size 500x500 with 2 Axes>"
      ]
     },
     "metadata": {},
     "output_type": "display_data"
    },
    {
     "name": "stdout",
     "output_type": "stream",
     "text": [
      "accuracy:   0.708\n"
     ]
    }
   ],
   "source": [
    "plot_confusion_matrix_accuracy(df_test, 'sentiment', 'sentiment_lex')"
   ]
  },
  {
   "cell_type": "markdown",
   "metadata": {},
   "source": [
    "#### Com tratamento da negação"
   ]
  },
  {
   "cell_type": "code",
   "execution_count": 25,
   "metadata": {
    "tags": []
   },
   "outputs": [
    {
     "data": {
      "image/png": "[encoded data removed]",
      "text/plain": [
       "<Figure size 500x500 with 2 Axes>"
      ]
     },
     "metadata": {},
     "output_type": "display_data"
    },
    {
     "name": "stdout",
     "output_type": "stream",
     "text": [
      "accuracy:   0.765\n"
     ]
    }
   ],
   "source": [
    "plot_confusion_matrix_accuracy(df, 'sentiment', 'sentiment_lex_neg')"
   ]
  },
  {
   "cell_type": "code",
   "execution_count": 26,
   "metadata": {},
   "outputs": [
    {
     "data": {
      "image/png": "[encoded data removed]",
      "text/plain": [
       "<Figure size 500x500 with 2 Axes>"
      ]
     },
     "metadata": {},
     "output_type": "display_data"
    },
    {
     "name": "stdout",
     "output_type": "stream",
     "text": [
      "accuracy:   0.713\n"
     ]
    }
   ],
   "source": [
    "plot_confusion_matrix_accuracy(df_test, 'sentiment', 'sentiment_lex_neg')"
   ]
  },
  {
   "cell_type": "markdown",
   "metadata": {},
   "source": [
    "## Aprendizagem automática"
   ]
  },
  {
   "cell_type": "markdown",
   "metadata": {},
   "source": [
    "### Preparação dos Dados"
   ]
  },
  {
   "cell_type": "code",
   "execution_count": 29,
   "metadata": {
    "tags": []
   },
   "outputs": [],
   "source": [
    "df['label'] = sentiment_convert(df, 'sentiment', convert=0)\n",
    "df_test['label'] = sentiment_convert(df_test, 'sentiment', convert=0)"
   ]
  },
  {
   "cell_type": "code",
   "execution_count": 30,
   "metadata": {},
   "outputs": [],
   "source": [
    "df['review'] = df['review'].apply(str)\n",
    "df_test['review'] = df_test['review'].apply(str)"
   ]
  },
  {
   "cell_type": "markdown",
   "metadata": {},
   "source": [
    "### Features"
   ]
  },
  {
   "cell_type": "code",
   "execution_count": 31,
   "metadata": {
    "tags": []
   },
   "outputs": [],
   "source": [
    "vectorizer = CountVectorizer()\n",
    "train_X = vectorizer.fit_transform(df['review'])\n",
    "test_X = vectorizer.transform(df_test['review'])"
   ]
  },
  {
   "cell_type": "code",
   "execution_count": 32,
   "metadata": {},
   "outputs": [],
   "source": [
    "tfidf_vectorizer = TfidfVectorizer(use_idf=True)\n",
    "train_tfidf = tfidf_vectorizer.fit_transform(df['review']) \n",
    "test_tfidf = tfidf_vectorizer.transform(df_test['review']) "
   ]
  },
  {
   "cell_type": "code",
   "execution_count": 33,
   "metadata": {},
   "outputs": [],
   "source": [
    "normalized = []\n",
    "for i in df['bag_neg']:\n",
    "    colect = \"\"\n",
    "    for x in i:\n",
    "        colect = colect + \" \" + x\n",
    "    normalized.append(colect)\n",
    "    \n",
    "normalized_test = []\n",
    "for i in df_test['bag_neg']:\n",
    "    colect = \"\"\n",
    "    for x in i:\n",
    "        colect = colect + \" \" + x\n",
    "    normalized_test.append(colect)\n",
    "    \n",
    "vectorizer = CountVectorizer()\n",
    "train_X_bag = vectorizer.fit_transform(normalized)\n",
    "test_X_bag = vectorizer.transform(normalized_test)"
   ]
  },
  {
   "cell_type": "code",
   "execution_count": 34,
   "metadata": {},
   "outputs": [],
   "source": [
    "normalized_tfidf = []\n",
    "for i in df['bag_neg']:\n",
    "    colect = \"\"\n",
    "    for x in i:\n",
    "        colect = colect + \" \" + x\n",
    "    normalized_tfidf.append(colect)\n",
    "    \n",
    "normalized_tfidf_test = []\n",
    "for i in df_test['bag_neg']:\n",
    "    colect = \"\"\n",
    "    for x in i:\n",
    "        colect = colect + \" \" + x\n",
    "    normalized_tfidf_test.append(colect)\n",
    "    \n",
    "tfidf_vectorizer_bag = TfidfVectorizer(use_idf=True)\n",
    "train_tfidf_bag = tfidf_vectorizer_bag.fit_transform(normalized_tfidf) \n",
    "test_tfidf_bag = tfidf_vectorizer_bag.transform(normalized_tfidf_test) "
   ]
  },
  {
   "cell_type": "markdown",
   "metadata": {},
   "source": [
    "### Models"
   ]
  },
  {
   "cell_type": "markdown",
   "metadata": {},
   "source": [
    "#### Multinomial Naive Bayes"
   ]
  },
  {
   "cell_type": "code",
   "execution_count": 35,
   "metadata": {},
   "outputs": [
    {
     "name": "stdout",
     "output_type": "stream",
     "text": [
      "Multinomial Naive Bayes - vectorizer (accuracy):    0.855\n"
     ]
    }
   ],
   "source": [
    "name_mnb = \"Multinomial Naive Bayes - vectorizer (accuracy): \"\n",
    "nb = MultinomialNB()\n",
    "Mult_nb = nb.fit(train_X, df['label'])\n",
    "df_test['sentiment_mnb'] = Mult_nb.predict(test_X)\n",
    "score_mnb = accuracy_score(df_test['label'], df_test['sentiment_mnb'])\n",
    "print(f\"{name_mnb}   %0.3f\" % score_mnb)"
   ]
  },
  {
   "cell_type": "code",
   "execution_count": 36,
   "metadata": {
    "tags": []
   },
   "outputs": [
    {
     "name": "stdout",
     "output_type": "stream",
     "text": [
      "Multinomial Naive Bayes - TFIDF (accuracy):    0.709\n"
     ]
    }
   ],
   "source": [
    "name_mnb_tfidf = \"Multinomial Naive Bayes - TFIDF (accuracy): \"\n",
    "nb = MultinomialNB()\n",
    "Mult_nb_tfidf = nb.fit(train_tfidf, df['label'])\n",
    "df_test['sentiment_mnb_tfidf'] = Mult_nb_tfidf.predict(test_tfidf)\n",
    "score_tfidf_mnb = accuracy_score(df_test['label'], df_test['sentiment_mnb_tfidf'])\n",
    "print(f\"{name_mnb_tfidf}   %0.3f\" % score_tfidf_mnb)"
   ]
  },
  {
   "cell_type": "code",
   "execution_count": 37,
   "metadata": {},
   "outputs": [
    {
     "name": "stdout",
     "output_type": "stream",
     "text": [
      "Multinomial Naive Bayes - vectorizer, retirar tags HTML, lowercase, tokenize, stopwords, stemming, tratamento de negação e retirar pontuação  (accuracy):    0.845\n"
     ]
    }
   ],
   "source": [
    "name_mnb_normalize = \"Multinomial Naive Bayes - vectorizer, retirar tags HTML, lowercase, tokenize, stopwords, stemming, tratamento de negação e retirar pontuação  (accuracy): \"\n",
    "nb = MultinomialNB()\n",
    "Mult_nb_bag = nb.fit(train_X_bag, df['label'])\n",
    "df_test['sentiment_mnb_bag'] = Mult_nb_bag.predict(test_X_bag)\n",
    "score_mnb_bag = accuracy_score(df_test['label'], df_test['sentiment_mnb_bag'])\n",
    "print(f\"{name_mnb_normalize}   %0.3f\" % score_mnb_bag)"
   ]
  },
  {
   "cell_type": "code",
   "execution_count": 38,
   "metadata": {},
   "outputs": [
    {
     "name": "stdout",
     "output_type": "stream",
     "text": [
      "Multinomial Naive Bayes - TFIDF, retirar tags HTML, lowercase, tokenize, stopwords, stemming, tratamento de negação e retirar pontuação  (accuracy):     0.716\n"
     ]
    }
   ],
   "source": [
    "name_mnb_normalize_tdidf = \"Multinomial Naive Bayes - TFIDF, retirar tags HTML, lowercase, tokenize, stopwords, stemming, tratamento de negação e retirar pontuação  (accuracy): \"\n",
    "nb = MultinomialNB()\n",
    "Mult_nb_tfidf_bag = nb.fit(train_tfidf_bag, df['label'])\n",
    "df_test['sentiment_mnb_tfidf_bag'] = Mult_nb_tfidf_bag.predict(test_tfidf_bag)\n",
    "score_tfidf_mnb_bag = accuracy_score(df_test['label'], df_test['sentiment_mnb_tfidf_bag'])\n",
    "print(f\"{name_mnb_normalize_tdidf}    %0.3f\" % score_tfidf_mnb_bag)"
   ]
  },
  {
   "cell_type": "markdown",
   "metadata": {},
   "source": [
    "#### Logistic regression"
   ]
  },
  {
   "cell_type": "code",
   "execution_count": 39,
   "metadata": {},
   "outputs": [
    {
     "name": "stdout",
     "output_type": "stream",
     "text": [
      "Logistic regression - vectorizer (accuracy):     0.866\n"
     ]
    }
   ],
   "source": [
    "name_lr = \"Logistic regression - vectorizer (accuracy): \"\n",
    "lr = LogisticRegression(solver='lbfgs', max_iter=1000)\n",
    "lre = lr.fit(train_X, df['label'])\n",
    "df_test['sentiment_lr'] = lre.predict(test_X)\n",
    "score_lre = accuracy_score(df_test['label'], df_test['sentiment_lr'])\n",
    "print(f\"{name_lr}    %0.3f\" % score_lre)"
   ]
  },
  {
   "cell_type": "code",
   "execution_count": 40,
   "metadata": {},
   "outputs": [
    {
     "name": "stdout",
     "output_type": "stream",
     "text": [
      "Logistic regression - TFIDF (accuracy):     0.855\n"
     ]
    }
   ],
   "source": [
    "name_lr_tfidf = \"Logistic regression - TFIDF (accuracy): \"\n",
    "lr = LogisticRegression(solver='lbfgs', max_iter=1000)\n",
    "lre_tfidf = lr.fit(train_tfidf, df['label'])\n",
    "df_test['sentiment_lr_tfidf'] = lre_tfidf.predict(test_tfidf)\n",
    "score_tfidf_lre = accuracy_score(df_test['label'], df_test['sentiment_lr_tfidf'])\n",
    "print(f\"{name_lr_tfidf}    %0.3f\" % score_tfidf_lre)"
   ]
  },
  {
   "cell_type": "code",
   "execution_count": 41,
   "metadata": {},
   "outputs": [
    {
     "name": "stdout",
     "output_type": "stream",
     "text": [
      "Logistic regression - vectorizer, retirar tags HTML, lowercase, tokenize, stopwords, stemming, tratamento de negação e retirar pontuação  (accuracy):     0.856\n"
     ]
    }
   ],
   "source": [
    "name_lr_normalize = \"Logistic regression - vectorizer, retirar tags HTML, lowercase, tokenize, stopwords, stemming, tratamento de negação e retirar pontuação  (accuracy): \"\n",
    "lr = LogisticRegression(solver='lbfgs', max_iter=1000)\n",
    "Mult_lr_bag = lr.fit(train_X_bag, df['label'])\n",
    "df_test['sentiment_lr_bag'] = Mult_lr_bag.predict(test_X_bag)\n",
    "score_lr_bag = accuracy_score(df_test['label'], df_test['sentiment_lr_bag'])\n",
    "print(f\"{name_lr_normalize}    %0.3f\" % score_lr_bag)"
   ]
  },
  {
   "cell_type": "code",
   "execution_count": 43,
   "metadata": {},
   "outputs": [
    {
     "name": "stdout",
     "output_type": "stream",
     "text": [
      "Logistic regression - TFIDF, retirar tags HTML, lowercase, tokenize, stopwords, stemming, tratamento de negação e retirar pontuação  (accuracy):     0.716\n"
     ]
    }
   ],
   "source": [
    "name_lr_normalize_tdidf = \"Logistic regression - TFIDF, retirar tags HTML, lowercase, tokenize, stopwords, stemming, tratamento de negação e retirar pontuação  (accuracy): \"\n",
    "lr = LogisticRegression(solver='lbfgs', max_iter=1000)\n",
    "Mult_lr_tfidf_bag = nb.fit(train_tfidf_bag, df['label'])\n",
    "df_test['sentiment_lr_tfidf_bag'] = Mult_lr_tfidf_bag.predict(test_tfidf_bag)\n",
    "score_tfidf_lr_bag = accuracy_score(df_test['label'], df_test['sentiment_lr_tfidf_bag'])\n",
    "print(f\"{name_lr_normalize_tdidf}    %0.3f\" % score_tfidf_lr_bag)"
   ]
  },
  {
   "cell_type": "markdown",
   "metadata": {},
   "source": [
    "#### Linear SVC"
   ]
  },
  {
   "cell_type": "code",
   "execution_count": 44,
   "metadata": {},
   "outputs": [
    {
     "name": "stdout",
     "output_type": "stream",
     "text": [
      "Linear SVC - vectorizer (accuracy):     0.840\n"
     ]
    }
   ],
   "source": [
    "name_svmc = \"Linear SVC - vectorizer (accuracy): \"\n",
    "svmc = LinearSVC(max_iter=20000)\n",
    "lsvm = svmc.fit(train_X, df['label'])\n",
    "df_test['sentiment_lsvm'] = lsvm.predict(test_X)\n",
    "score_lsvm = accuracy_score(df_test['label'], df_test['sentiment_lsvm'])\n",
    "print(f\"{name_svmc}    %0.3f\" % score_lsvm)"
   ]
  },
  {
   "cell_type": "code",
   "execution_count": 45,
   "metadata": {},
   "outputs": [
    {
     "name": "stdout",
     "output_type": "stream",
     "text": [
      "Linear SVC - TFIDF (accuracy):     0.868\n"
     ]
    }
   ],
   "source": [
    "name_svmc_tfidf = \"Linear SVC - TFIDF (accuracy): \"\n",
    "svmc = LinearSVC(max_iter=20000)\n",
    "lsvm_tfidf = svmc.fit(train_tfidf, df['label'])\n",
    "df_test['sentiment_lsvm_tfidf'] = lsvm_tfidf.predict(test_tfidf)\n",
    "score_tfidf_lsvm = accuracy_score(df_test['label'], df_test['sentiment_lsvm_tfidf'])\n",
    "print(f\"{name_svmc_tfidf}    %0.3f\" % score_tfidf_lsvm)"
   ]
  },
  {
   "cell_type": "code",
   "execution_count": 46,
   "metadata": {},
   "outputs": [
    {
     "name": "stdout",
     "output_type": "stream",
     "text": [
      "Linear SVC - vectorizer, retirar tags HTML, lowercase, tokenize, stopwords, stemming, tratamento de negação e retirar pontuação  (accuracy):     0.840\n"
     ]
    }
   ],
   "source": [
    "name_svmc_normalize = \"Linear SVC - vectorizer, retirar tags HTML, lowercase, tokenize, stopwords, stemming, tratamento de negação e retirar pontuação  (accuracy): \"\n",
    "svmc = LinearSVC(max_iter=20000)\n",
    "Mult_svmc_bag = svmc.fit(train_X_bag, df['label'])\n",
    "df_test['sentiment_svmc_bag'] = Mult_svmc_bag.predict(test_X_bag)\n",
    "score_svmc_bag = accuracy_score(df_test['label'], df_test['sentiment_svmc_bag'])\n",
    "print(f\"{name_svmc_normalize}    %0.3f\" % score_svmc_bag)"
   ]
  },
  {
   "cell_type": "code",
   "execution_count": 47,
   "metadata": {},
   "outputs": [
    {
     "name": "stdout",
     "output_type": "stream",
     "text": [
      "Linear SVC - TFIDF, retirar tags HTML, lowercase, tokenize, stopwords, stemming, tratamento de negação e retirar pontuação  (accuracy):     0.861\n"
     ]
    }
   ],
   "source": [
    "name_svmc_normalize_tdidf = \"Linear SVC - TFIDF, retirar tags HTML, lowercase, tokenize, stopwords, stemming, tratamento de negação e retirar pontuação  (accuracy): \"\n",
    "svmc = LinearSVC(max_iter=20000)\n",
    "Mult_svmc_tfidf_bag = svmc.fit(train_tfidf_bag, df['label'])\n",
    "df_test['sentiment_svmc_tfidf_bag'] = Mult_svmc_tfidf_bag.predict(test_tfidf_bag)\n",
    "score_tfidf_svmc_bag = accuracy_score(df_test['label'], df_test['sentiment_svmc_tfidf_bag'])\n",
    "print(f\"{name_svmc_normalize_tdidf}    %0.3f\" % score_tfidf_svmc_bag)"
   ]
  },
  {
   "cell_type": "markdown",
   "metadata": {},
   "source": [
    "### Pipeline"
   ]
  },
  {
   "cell_type": "code",
   "execution_count": 48,
   "metadata": {},
   "outputs": [],
   "source": [
    "df = pd.read_csv(\"../TM/data/en-sentiment/amazon_reviews_train.csv\", encoding=\"utf-8\")\n",
    "df_test = pd.read_csv(\"../TM/data/en-sentiment/amazon_reviews_test.csv\", encoding=\"utf-8\")\n",
    "\n",
    "df_sample = df\n",
    "df_sample_test = df_test\n",
    "\n",
    "df_sample['sentiment'] = sentiment_convert(df_sample, 'sentiment', convert=0)\n",
    "df_sample_test['sentiment'] = sentiment_convert(df_sample_test, 'sentiment', convert=0)\n",
    "\n",
    "df_sample[\"label\"] = df[\"sentiment\"]\n",
    "df_sample_test[\"label\"] = df_sample_test[\"sentiment\"]\n",
    "\n",
    "df_sample[\"review\"] = df[\"review\"].apply(str)\n",
    "df_sample_test[\"review\"] = df_sample_test[\"review\"].apply(str)\n",
    "\n",
    "X_train_pipe, y_train_pipe = df_sample[\"review\"], df_sample[\"label\"]\n",
    "X_test_pipe, y_test_pipe = df_sample_test[\"review\"], df_sample_test[\"label\"]"
   ]
  },
  {
   "cell_type": "code",
   "execution_count": 49,
   "metadata": {},
   "outputs": [],
   "source": [
    "text_clf = Pipeline([\n",
    "    ('vect', CountVectorizer()),\n",
    "    ('tfidf', TfidfTransformer()),\n",
    "    ('clf', LinearSVC())\n",
    "])\n",
    "\n",
    "parameters = {\n",
    "    'vect__ngram_range': [(1, 1), (1, 2), (1, 2)],\n",
    "    'tfidf__use_idf': (True, False),\n",
    "    'clf__alpha': (1e-2, 1e-3),\n",
    "    'clf__penalty': ('l1', 'l2')\n",
    "}"
   ]
  },
  {
   "cell_type": "code",
   "execution_count": 50,
   "metadata": {},
   "outputs": [],
   "source": [
    "text_clf.fit(X_train_pipe, y_train_pipe)\n",
    "predicted_pipe = text_clf.predict(X_test_pipe)"
   ]
  },
  {
   "cell_type": "code",
   "execution_count": 51,
   "metadata": {},
   "outputs": [
    {
     "name": "stdout",
     "output_type": "stream",
     "text": [
      "Pipeline - Linear SVC accuracy:   0.867\n"
     ]
    }
   ],
   "source": [
    "score_pipeline_svmc_bag = accuracy_score(df_test['label'], predicted_pipe)\n",
    "print(\"Pipeline - Linear SVC accuracy:   %0.3f\" % score_pipeline_svmc_bag)"
   ]
  },
  {
   "cell_type": "code",
   "execution_count": 52,
   "metadata": {},
   "outputs": [
    {
     "name": "stdout",
     "output_type": "stream",
     "text": [
      "              precision    recall  f1-score   support\n",
      "\n",
      "    positive       0.83      0.72      0.77       741\n",
      "    negative       0.88      0.93      0.91      1676\n",
      "\n",
      "    accuracy                           0.87      2417\n",
      "   macro avg       0.85      0.83      0.84      2417\n",
      "weighted avg       0.86      0.87      0.86      2417\n",
      "\n"
     ]
    },
    {
     "data": {
      "text/plain": [
       "array([[ 533,  208],\n",
       "       [ 113, 1563]])"
      ]
     },
     "execution_count": 52,
     "metadata": {},
     "output_type": "execute_result"
    }
   ],
   "source": [
    "print(metrics.classification_report(y_test_pipe, predicted_pipe, target_names=['positive', 'negative']))\n",
    "metrics.confusion_matrix(y_test_pipe, predicted_pipe)"
   ]
  },
  {
   "cell_type": "code",
   "execution_count": 53,
   "metadata": {},
   "outputs": [],
   "source": [
    "#https://scikit-learn.org/stable/tutorial/text_analytics/working_with_text_data.html\n",
    "#https://scikit-learn.org/stable/modules/generated/sklearn.naive_bayes.MultinomialNB.html\n",
    "#https://www.oreilly.com/library/view/applied-text-analysis/9781491963036/ch04.html\n",
    "\n",
    "text_clf2 = Pipeline([\n",
    "    ('vect', CountVectorizer()),\n",
    "    ('tfidf', TfidfTransformer()),\n",
    "    ('clf', MultinomialNB())\n",
    "])\n",
    "\n",
    "parameters = {\n",
    "    'vect__ngram_range': [(1, 1), (1, 2), (1, 2)],\n",
    "    'tfidf__use_idf': (True, False),\n",
    "    'clf__alpha': (1e-2, 1e-3),\n",
    "    'clf__fit_prior': (True, False)\n",
    "}"
   ]
  },
  {
   "cell_type": "code",
   "execution_count": 54,
   "metadata": {},
   "outputs": [],
   "source": [
    "text_clf2.fit(X_train_pipe, y_train_pipe)\n",
    "predicted_pipe2 = text_clf2.predict(X_test_pipe)"
   ]
  },
  {
   "cell_type": "code",
   "execution_count": 55,
   "metadata": {},
   "outputs": [
    {
     "name": "stdout",
     "output_type": "stream",
     "text": [
      "Pipeline-MultinomialNB accuracy:   0.710\n"
     ]
    }
   ],
   "source": [
    "score_pipeline_mnb_bag = accuracy_score(df_test['label'], predicted_pipe2)\n",
    "print(\"Pipeline-MultinomialNB accuracy:   %0.3f\" % score_pipeline_mnb_bag)"
   ]
  },
  {
   "cell_type": "code",
   "execution_count": 56,
   "metadata": {},
   "outputs": [
    {
     "name": "stdout",
     "output_type": "stream",
     "text": [
      "              precision    recall  f1-score   support\n",
      "\n",
      "    positive       0.91      0.06      0.11       741\n",
      "    negative       0.71      1.00      0.83      1676\n",
      "\n",
      "    accuracy                           0.71      2417\n",
      "   macro avg       0.81      0.53      0.47      2417\n",
      "weighted avg       0.77      0.71      0.61      2417\n",
      "\n"
     ]
    },
    {
     "data": {
      "text/plain": [
       "array([[  43,  698],\n",
       "       [   4, 1672]])"
      ]
     },
     "execution_count": 56,
     "metadata": {},
     "output_type": "execute_result"
    }
   ],
   "source": [
    "print(metrics.classification_report(y_test_pipe, predicted_pipe2, target_names=['positive', 'negative']))\n",
    "metrics.confusion_matrix(y_test_pipe, predicted_pipe2)"
   ]
  },
  {
   "cell_type": "markdown",
   "metadata": {},
   "source": [
    "## Tabela Final"
   ]
  },
  {
   "cell_type": "code",
   "execution_count": 57,
   "metadata": {},
   "outputs": [
    {
     "name": "stdout",
     "output_type": "stream",
     "text": [
      "Multinomial Naive Bayes - vectorizer (accuracy):    0.855\n",
      "Multinomial Naive Bayes - TFIDF (accuracy):    0.709\n",
      "Multinomial Naive Bayes - vectorizer, retirar tags HTML, lowercase, tokenize, stopwords, stemming, tratamento de negação e retirar pontuação  (accuracy):    0.845\n",
      "Multinomial Naive Bayes - TFIDF, retirar tags HTML, lowercase, tokenize, stopwords, stemming, tratamento de negação e retirar pontuação  (accuracy):     0.716\n",
      "Logistic regression - vectorizer (accuracy):     0.866\n",
      "Logistic regression - TFIDF (accuracy):     0.855\n",
      "Logistic regression - vectorizer, retirar tags HTML, lowercase, tokenize, stopwords, stemming, tratamento de negação e retirar pontuação  (accuracy):     0.856\n",
      "Logistic regression - TFIDF, retirar tags HTML, lowercase, tokenize, stopwords, stemming, tratamento de negação e retirar pontuação  (accuracy):     0.716\n",
      "Linear SVC - vectorizer (accuracy):     0.840\n",
      "Linear SVC - TFIDF (accuracy):     0.868\n",
      "Linear SVC - vectorizer, retirar tags HTML, lowercase, tokenize, stopwords, stemming, tratamento de negação e retirar pontuação  (accuracy):     0.840\n",
      "Linear SVC - TFIDF, retirar tags HTML, lowercase, tokenize, stopwords, stemming, tratamento de negação e retirar pontuação  (accuracy):     0.861\n",
      "Pipeline - Linear SVC accuracy:   0.867\n",
      "Pipeline-MultinomialNB accuracy:   0.710\n"
     ]
    }
   ],
   "source": [
    "print(f\"{name_mnb}   %0.3f\" % score_mnb)\n",
    "print(f\"{name_mnb_tfidf}   %0.3f\" % score_tfidf_mnb)\n",
    "print(f\"{name_mnb_normalize}   %0.3f\" % score_mnb_bag)\n",
    "print(f\"{name_mnb_normalize_tdidf}    %0.3f\" % score_tfidf_mnb_bag)\n",
    "\n",
    "print(f\"{name_lr}    %0.3f\" % score_lre)\n",
    "print(f\"{name_lr_tfidf}    %0.3f\" % score_tfidf_lre)\n",
    "print(f\"{name_lr_normalize}    %0.3f\" % score_lr_bag)\n",
    "print(f\"{name_lr_normalize_tdidf}    %0.3f\" % score_tfidf_lr_bag)\n",
    "\n",
    "print(f\"{name_svmc}    %0.3f\" % score_lsvm)\n",
    "print(f\"{name_svmc_tfidf}    %0.3f\" % score_tfidf_lsvm)\n",
    "print(f\"{name_svmc_normalize}    %0.3f\" % score_svmc_bag)\n",
    "print(f\"{name_svmc_normalize_tdidf}    %0.3f\" % score_tfidf_svmc_bag)\n",
    "\n",
    "print(\"Pipeline - Linear SVC accuracy:   %0.3f\" % score_pipeline_svmc_bag)\n",
    "print(\"Pipeline-MultinomialNB accuracy:   %0.3f\" % score_pipeline_mnb_bag)"
   ]
  },
  {
   "cell_type": "code",
   "execution_count": null,
   "metadata": {},
   "outputs": [],
   "source": []
  }
 ],
 "metadata": {
  "kernelspec": {
   "display_name": "Python 3",
   "language": "python",
   "name": "python3"
  },
  "language_info": {
   "codemirror_mode": {
    "name": "ipython",
    "version": 3
   },
   "file_extension": ".py",
   "mimetype": "text/x-python",
   "name": "python",
   "nbconvert_exporter": "python",
   "pygments_lexer": "ipython3",
   "version": "3.8.10"
  }
 },
 "nbformat": 4,
 "nbformat_minor": 4
}
