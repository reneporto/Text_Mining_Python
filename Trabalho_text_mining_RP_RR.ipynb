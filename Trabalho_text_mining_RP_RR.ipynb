{
 "cells": [
  {
   "cell_type": "markdown",
   "metadata": {},
   "source": [
    "# Text Mining - Análise de Sentimentos dos Reviews da Amazon\n",
    "### René Porto e Ricardo Rolim"
   ]
  },
  {
   "cell_type": "markdown",
   "metadata": {},
   "source": [
    "### Importar ficheiros"
   ]
  },
  {
   "cell_type": "code",
   "execution_count": 409,
   "metadata": {},
   "outputs": [
    {
     "name": "stderr",
     "output_type": "stream",
     "text": [
      "[nltk_data] Downloading package omw-1.4 to /home/a101597/nltk_data...\n",
      "[nltk_data]   Package omw-1.4 is already up-to-date!\n"
     ]
    },
    {
     "data": {
      "text/plain": [
       "True"
      ]
     },
     "execution_count": 409,
     "metadata": {},
     "output_type": "execute_result"
    }
   ],
   "source": [
    "import os\n",
    "import pandas as pd\n",
    "import numpy as np\n",
    "import nltk\n",
    "import string\n",
    "import re\n",
    "import matplotlib.pyplot as plt\n",
    "import seaborn as sns\n",
    "import sklearn.metrics as metrics\n",
    "\n",
    "from sklearn.naive_bayes import MultinomialNB\n",
    "from sklearn.naive_bayes import GaussianNB\n",
    "from sklearn.linear_model import LogisticRegression\n",
    "from sklearn.svm import LinearSVC\n",
    "from sklearn.feature_extraction.text import TfidfVectorizer, CountVectorizer\n",
    "\n",
    "from wordcloud import WordCloud\n",
    "from nltk.corpus import stopwords\n",
    "from nltk.stem import PorterStemmer, WordNetLemmatizer\n",
    "\n",
    "from nltk.probability import FreqDist\n",
    "from textblob import TextBlob\n",
    "\n",
    "# preciso destas duas linhas\n",
    "import sklearn.metrics as metrics\n",
    "from sklearn.metrics import confusion_matrix, classification_report, accuracy_score\n",
    "\n",
    "nltk.download('omw-1.4')"
   ]
  },
  {
   "cell_type": "code",
   "execution_count": 168,
   "metadata": {},
   "outputs": [
    {
     "data": {
      "text/html": [
       "<div>\n",
       "<style scoped>\n",
       "    .dataframe tbody tr th:only-of-type {\n",
       "        vertical-align: middle;\n",
       "    }\n",
       "\n",
       "    .dataframe tbody tr th {\n",
       "        vertical-align: top;\n",
       "    }\n",
       "\n",
       "    .dataframe thead th {\n",
       "        text-align: right;\n",
       "    }\n",
       "</style>\n",
       "<table border=\"1\" class=\"dataframe\">\n",
       "  <thead>\n",
       "    <tr style=\"text-align: right;\">\n",
       "      <th></th>\n",
       "      <th>sentiment</th>\n",
       "      <th>review</th>\n",
       "    </tr>\n",
       "  </thead>\n",
       "  <tbody>\n",
       "    <tr>\n",
       "      <th>4069</th>\n",
       "      <td>positive</td>\n",
       "      <td>Very crunchy and salty, just like described. I...</td>\n",
       "    </tr>\n",
       "    <tr>\n",
       "      <th>11454</th>\n",
       "      <td>positive</td>\n",
       "      <td>This is fabulous and it's what we drank when t...</td>\n",
       "    </tr>\n",
       "    <tr>\n",
       "      <th>18518</th>\n",
       "      <td>positive</td>\n",
       "      <td>These are great, long-lasting chews for small ...</td>\n",
       "    </tr>\n",
       "    <tr>\n",
       "      <th>30622</th>\n",
       "      <td>positive</td>\n",
       "      <td>Good spice blend.  However, I was very dissapo...</td>\n",
       "    </tr>\n",
       "    <tr>\n",
       "      <th>16732</th>\n",
       "      <td>positive</td>\n",
       "      <td>Hickory Smoked Primal Jerky is awesome! Jerky ...</td>\n",
       "    </tr>\n",
       "  </tbody>\n",
       "</table>\n",
       "</div>"
      ],
      "text/plain": [
       "      sentiment                                             review\n",
       "4069   positive  Very crunchy and salty, just like described. I...\n",
       "11454  positive  This is fabulous and it's what we drank when t...\n",
       "18518  positive  These are great, long-lasting chews for small ...\n",
       "30622  positive  Good spice blend.  However, I was very dissapo...\n",
       "16732  positive  Hickory Smoked Primal Jerky is awesome! Jerky ..."
      ]
     },
     "execution_count": 168,
     "metadata": {},
     "output_type": "execute_result"
    }
   ],
   "source": [
    "df = pd.read_csv(\"../TM/data/en-sentiment/amazon_reviews_train.csv\", encoding=\"utf-8\")\n",
    "df_test = pd.read_csv(\"../TM/data/en-sentiment/amazon_reviews_test.csv\", encoding=\"utf-8\")\n",
    "df.sample(5)"
   ]
  },
  {
   "cell_type": "markdown",
   "metadata": {},
   "source": [
    "### Funções"
   ]
  },
  {
   "cell_type": "code",
   "execution_count": 169,
   "metadata": {},
   "outputs": [],
   "source": [
    "# https://medium.com/@jorlugaqui/how-to-strip-html-tags-from-a-string-in-python-7cb81a2bbf44\n",
    "\n",
    "def remover_tag_html(text):\n",
    "    \"\"\"\n",
    "    Function that removes html tags\n",
    "    Arguments:\n",
    "        a: text\n",
    "    Return:\n",
    "        text without html tags\n",
    "    \"\"\"\n",
    "    clean = re.compile('<.*?>')\n",
    "    return re.sub(clean, '', text)"
   ]
  },
  {
   "cell_type": "code",
   "execution_count": 170,
   "metadata": {},
   "outputs": [],
   "source": [
    "def plot_Cloud(wordCloud, name):\n",
    "    \"\"\"\n",
    "    Function that creates word cloud\n",
    "    Arguments:\n",
    "        a: text\n",
    "    Return:\n",
    "        image with word cloud\n",
    "    \"\"\"\n",
    "    plt.figure( figsize=(20,10), facecolor='k')\n",
    "    plt.imshow(wordCloud)\n",
    "    plt.axis(\"off\")\n",
    "    plt.tight_layout(pad=0)\n",
    "    plt.show()\n",
    "    name = name + \".png\"\n",
    "    plt.savefig(name, facecolor='k', bbox_inches='tight')"
   ]
  },
  {
   "cell_type": "code",
   "execution_count": 171,
   "metadata": {},
   "outputs": [],
   "source": [
    "def stemming(tokens):\n",
    "    \"\"\"\n",
    "    Function that stemms tokens\n",
    "    Arguments:\n",
    "        tokens: list of tokens\n",
    "    Return:\n",
    "        stemmed words\n",
    "    \"\"\"\n",
    "    ps=PorterStemmer()\n",
    "    stem_words=[]\n",
    "    for x in tokens:\n",
    "        stem_words.append(ps.stem(x))\n",
    "    return stem_words"
   ]
  },
  {
   "cell_type": "code",
   "execution_count": 172,
   "metadata": {},
   "outputs": [],
   "source": [
    "# Não estamos usando\n",
    "\n",
    "def lemmatizer(tokens):\n",
    "    \"\"\"\n",
    "    Function that lemma tokens\n",
    "    Arguments:\n",
    "        tokens: list of tokens\n",
    "    Return:\n",
    "        lemmed words\n",
    "    \"\"\"\n",
    "    lemmatizer = WordNetLemmatizer()\n",
    "    lem_words=[]\n",
    "    for x in tokens:\n",
    "        lem_words.append(lemmatizer.lemmatize(x))\n",
    "    return lem_words"
   ]
  },
  {
   "cell_type": "code",
   "execution_count": 173,
   "metadata": {},
   "outputs": [],
   "source": [
    "def summary_dataset(df, df_test):\n",
    "    \"\"\"\n",
    "    Function that returns a summary of a dataset\n",
    "    Arguments:\n",
    "        df: train dataset\n",
    "        df_test: test dataset\n",
    "    Return:\n",
    "        summary of train and test dataset\n",
    "    \"\"\"\n",
    "    count_pos_train = df.loc[df.sentiment=='positive', 'sentiment'].count()\n",
    "    count_neg_train = df.loc[df.sentiment=='negative', 'sentiment'].count()\n",
    "    count_pos_test = df_test.loc[df_test.sentiment=='positive', 'sentiment'].count()\n",
    "    count_neg_test = df_test.loc[df_test.sentiment=='negative', 'sentiment'].count()\n",
    "    total_train = len(df)\n",
    "    total_test = len(df_test)\n",
    "    total = total_train + total_test\n",
    "    print(f\"Treino (positivo): {count_pos_train} - {round(100 * count_pos_train / total_train,2)}% \\\n",
    "          \\nTreino (negativo): {count_neg_train} - {round(100 * count_neg_train / total_train,2)}% \\\n",
    "          \\nTotal Treino: {total_train} - {round(100 * total_train / total,2)}% \\\n",
    "          \\n \\\n",
    "          \\nTeste (positivo): {count_pos_test} - {round(100 * count_pos_test / total_test,2)}% \\\n",
    "          \\nTeste (negativo): {count_neg_test} - {round(100 * count_neg_test / total_test,2)}% \\\n",
    "          \\nTotal Teste: {total_test} - {round(100 * total_test / total,2)}% \\\n",
    "          \\n \\\n",
    "          \\nTotal: {total}\")"
   ]
  },
  {
   "cell_type": "code",
   "execution_count": 174,
   "metadata": {},
   "outputs": [],
   "source": [
    "#https://stackoverflow.com/questions/43485469/apply-textblob-in-for-each-row-of-a-dataframe\n",
    "#https://textblob.readthedocs.io/en/dev/quickstart.html#sentiment-analysis\n",
    "#https://pandas.pydata.org/docs/reference/api/pandas.DataFrame.apply.html\n",
    "\n",
    "# Decidimos usar o ZERO como review positivo\n",
    "\n",
    "def sentiment_calc(text):\n",
    "    \"\"\"\n",
    "    Function that returns a binary sentiment calculation using TextBlob\n",
    "    Arguments:\n",
    "        text: text\n",
    "    Return:\n",
    "        return a binary sentiment (positivo ou negativo)\n",
    "    \"\"\"\n",
    "    try:\n",
    "        sentiment_binary = TextBlob(text).sentiment.polarity\n",
    "        return sentiment_binary\n",
    "    except:\n",
    "        return None"
   ]
  },
  {
   "cell_type": "code",
   "execution_count": 344,
   "metadata": {},
   "outputs": [],
   "source": [
    "def sentiment_convert(df, column, convert):\n",
    "    \"\"\"\n",
    "    Function that returns a binary sentiment\n",
    "    Arguments:\n",
    "        sentiment: sentiment (positivo ou negativo)\n",
    "    Return:\n",
    "        return a binary sentiment number (positivo = 1 ou negativo = 0)\n",
    "    \"\"\"\n",
    "    label = []\n",
    "    if convert == 0:\n",
    "        for each in df[column]:\n",
    "            if each == 'positive':\n",
    "                label.append(1)\n",
    "            else:\n",
    "                label.append(0)\n",
    "    elif convert == 1:\n",
    "        for each in df[column]:\n",
    "            if each == 1:\n",
    "                label.append('positive')\n",
    "            else:\n",
    "                label.append('negative')\n",
    "    elif convert == 2:\n",
    "        for each in df[column]:\n",
    "            if each >= 0:\n",
    "                label.append('positive')\n",
    "            else:\n",
    "                label.append('negative')\n",
    "    else:\n",
    "        for each in df[column]:\n",
    "            if each >= 0:\n",
    "                label.append(1)\n",
    "            else:\n",
    "                label.append(0)\n",
    "    return label"
   ]
  },
  {
   "cell_type": "code",
   "execution_count": 176,
   "metadata": {},
   "outputs": [],
   "source": [
    "def create_bag_Word_Corpus(df, column_name, neg):\n",
    "    \"\"\"\n",
    "    Function that creates a bag of words, remove html tags, lower case words, tokenize, \n",
    "    remove stop words, stemming, apply negation (optional) and remove punctuation.\n",
    "    Arguments:\n",
    "        df: dataframe\n",
    "        column_name: column to create cleaned bag of words\n",
    "        neg: create a lexo negation (optinal)\n",
    "    Return:\n",
    "        return bag of words\n",
    "    \"\"\"\n",
    "    negation = [\"not\", \"n't\"]\n",
    "    words_corpus  = []\n",
    "    for val in df[column_name]:\n",
    "        sk = False\n",
    "        text = remover_tag_html(val)\n",
    "        text = text.lower()\n",
    "        tokens = nltk.word_tokenize(text)\n",
    "        tokens = [word for word in tokens if word not in stopwords.words('english')]\n",
    "        tokens = stemming(tokens)\n",
    "        if neg is True:\n",
    "            for x, i in enumerate(tokens):\n",
    "                if i in negation:\n",
    "                    sk = True\n",
    "                elif i in string.punctuation:\n",
    "                    sk = False\n",
    "                elif sk is True:\n",
    "                    tokens[x] = \"NOT_\"+i\n",
    "        tokens = [word for word in tokens if word not in string.punctuation]\n",
    "        words_corpus.append(tokens)\n",
    "    return words_corpus"
   ]
  },
  {
   "cell_type": "code",
   "execution_count": 177,
   "metadata": {},
   "outputs": [],
   "source": [
    "def sentiment_lex(df, column_name):\n",
    "    \"\"\"\n",
    "    Function that returns a sentiment from a lexo file\n",
    "    Arguments:\n",
    "        df: dataframe\n",
    "        column_name: column to create cleaned bag of words\n",
    "    Return:\n",
    "        return a binary sentiment (positivo ou negativo)\n",
    "    \"\"\"\n",
    "    sentiment_lex = []\n",
    "    for tokens in df[column_name]:\n",
    "        sentiment_score = sum(lex[x] for x in tokens if x in lex)\n",
    "        result = 'positive' if sentiment_score >= 0 else 'negative'\n",
    "        sentiment_lex.append(result)\n",
    "    return sentiment_lex"
   ]
  },
  {
   "cell_type": "code",
   "execution_count": 213,
   "metadata": {},
   "outputs": [],
   "source": [
    "#https://medium.com/analytics-vidhya/sentiment-analysis-movies-reviews-b299de4bb1aa\n",
    "\n",
    "def plot_confusion_matrix_accurancy(df, col_pred, col_actual):\n",
    "    \"\"\"\n",
    "    Function that returns a confusion matrix and accurancy\n",
    "    Arguments:\n",
    "        col_pred: column that are inserted our prediction\n",
    "        col_actual: label\n",
    "    Return:\n",
    "        return a binary sentiment (positivo ou negativo)\n",
    "    \"\"\"\n",
    "    cm = confusion_matrix(df[col_pred], df[col_actual], labels=['positive', 'negative'])\n",
    "    plt.figure(figsize = (5,5))\n",
    "    sns.heatmap(cm,cmap= \"Blues\", \n",
    "                linecolor = 'black', \n",
    "                linewidth = 1, \n",
    "                annot = True, \n",
    "                fmt='', \n",
    "                xticklabels = ['Negative','Positive'], \n",
    "                yticklabels = ['Negative','Positive'])\n",
    "    plt.xlabel(\"Predicted\")\n",
    "    plt.ylabel(\"Actual\")\n",
    "    plt.show()\n",
    "    \n",
    "    score = accuracy_score(df[col_pred], df[col_actual])\n",
    "    return print(\"accuracy:   %0.3f\" % score)"
   ]
  },
  {
   "cell_type": "code",
   "execution_count": 179,
   "metadata": {},
   "outputs": [],
   "source": [
    "#https://kavita-ganesan.com/tfidftransformer-tfidfvectorizer-usage-differences/#.Yj-znufP2Mo\n",
    "\n",
    "# https://scikit-learn.org/stable/modules/generated/sklearn.feature_extraction.text.TfidfVectorizer.html\n",
    "\n",
    "#transform no consjunto de teste\n",
    "def tfidf_fit(df, column):\n",
    "    \"\"\"\n",
    "    Function that returns TF-IDF\n",
    "    Arguments:\n",
    "        df: dataframe\n",
    "        column_name: column to calculate TF-IDF\n",
    "    Return:\n",
    "        return TF-IDF\n",
    "    \"\"\"\n",
    "    tfidf_vectorizer=TfidfVectorizer(use_idf=True)\n",
    "    tfidf_vectorizer_vectors=tfidf_vectorizer.fit_transform(df[column]) \n",
    "    return tfidf_vectorizer_vectors"
   ]
  },
  {
   "cell_type": "code",
   "execution_count": 180,
   "metadata": {},
   "outputs": [],
   "source": [
    "#https://kavita-ganesan.com/tfidftransformer-tfidfvectorizer-usage-differences/#.Yj-znufP2Mo\n",
    "\n",
    "# https://scikit-learn.org/stable/modules/generated/sklearn.feature_extraction.text.TfidfVectorizer.html\n",
    "\n",
    "#transform no consjunto de teste\n",
    "def tfidf_transform(df, column):\n",
    "    \"\"\"\n",
    "    Function that returns TF-IDF\n",
    "    Arguments:\n",
    "        df: dataframe\n",
    "        column_name: column to calculate TF-IDF\n",
    "    Return:\n",
    "        return TF-IDF\n",
    "    \"\"\"\n",
    "    tfidf_vectorizer=TfidfVectorizer(use_idf=True)\n",
    "    tfidf_vectorizer_vectors=tfidf_vectorizer.transform(df[column]) \n",
    "    return tfidf_vectorizer_vectors"
   ]
  },
  {
   "cell_type": "code",
   "execution_count": 181,
   "metadata": {},
   "outputs": [],
   "source": [
    "def report_model(df, column, y_pred):\n",
    "    \"\"\"\n",
    "    Function that report metrics of a model\n",
    "    Arguments:\n",
    "        df: dataframe\n",
    "        column_name: column to calculate TF-IDF\n",
    "        y_pred: prediction column\n",
    "    Return:\n",
    "        return report metrics of a model\n",
    "    \"\"\"\n",
    "    print(\"Pontos rotulados incorretamente: %d de %d\"% ((df[column]!=y_pred).sum(), df.shape[0]))\n",
    "    print(\"Accuracy: \", metrics.accuracy_score(df[column], y_pred))\n",
    "    print(\"Precision: \", metrics.precision_score(df[column], y_pred, average=\"macro\"))\n",
    "    print(\"Recall: \", metrics.recall_score(df[column], y_pred, average=\"macro\"))\n",
    "    print(\"F1-measure: \", metrics.f1_score(df[column], y_pred, average=\"macro\"))"
   ]
  },
  {
   "cell_type": "markdown",
   "metadata": {},
   "source": [
    "### Análise Exploratória dos Dados"
   ]
  },
  {
   "cell_type": "code",
   "execution_count": 188,
   "metadata": {},
   "outputs": [
    {
     "name": "stdout",
     "output_type": "stream",
     "text": [
      "Valores de treino duplicados: 3531 \n",
      "Valores de teste duplicados: 25 \n"
     ]
    }
   ],
   "source": [
    "print(f\"Valores de treino duplicados: {df.duplicated().sum()} \")\n",
    "print(f\"Valores de teste duplicados: {df_test.duplicated().sum()} \")"
   ]
  },
  {
   "cell_type": "code",
   "execution_count": 189,
   "metadata": {},
   "outputs": [
    {
     "name": "stdout",
     "output_type": "stream",
     "text": [
      "Treino (positivo): 37835 - 77.37%           \n",
      "Treino (negativo): 11067 - 22.63%           \n",
      "Total Treino: 48902 - 95.29%           \n",
      "           \n",
      "Teste (positivo): 1676 - 69.34%           \n",
      "Teste (negativo): 741 - 30.66%           \n",
      "Total Teste: 2417 - 4.71%           \n",
      "           \n",
      "Total: 51319\n"
     ]
    }
   ],
   "source": [
    "summary_dataset(df, df_test)"
   ]
  },
  {
   "cell_type": "code",
   "execution_count": 190,
   "metadata": {},
   "outputs": [
    {
     "name": "stdout",
     "output_type": "stream",
     "text": [
      "Treino (positivo): 35363 - 77.94%           \n",
      "Treino (negativo): 10008 - 22.06%           \n",
      "Total Treino: 45371 - 94.99%           \n",
      "           \n",
      "Teste (positivo): 1667 - 69.69%           \n",
      "Teste (negativo): 725 - 30.31%           \n",
      "Total Teste: 2392 - 5.01%           \n",
      "           \n",
      "Total: 47763\n"
     ]
    }
   ],
   "source": [
    "df = df.drop_duplicates()\n",
    "df_test = df_test.drop_duplicates()\n",
    "summary_dataset(df, df_test)"
   ]
  },
  {
   "cell_type": "markdown",
   "metadata": {},
   "source": [
    "Foram encontrados registos duplicados, como a proporção entre os reviews positivos e negativos não se alteraram, decidimos então remover os registos duplicados"
   ]
  },
  {
   "cell_type": "markdown",
   "metadata": {},
   "source": [
    "### Baseline"
   ]
  },
  {
   "cell_type": "code",
   "execution_count": 345,
   "metadata": {},
   "outputs": [],
   "source": [
    "df['sentiment_calculated'] = df['review'].apply(sentiment_calc)"
   ]
  },
  {
   "cell_type": "code",
   "execution_count": 346,
   "metadata": {},
   "outputs": [
    {
     "data": {
      "text/html": [
       "<div>\n",
       "<style scoped>\n",
       "    .dataframe tbody tr th:only-of-type {\n",
       "        vertical-align: middle;\n",
       "    }\n",
       "\n",
       "    .dataframe tbody tr th {\n",
       "        vertical-align: top;\n",
       "    }\n",
       "\n",
       "    .dataframe thead th {\n",
       "        text-align: right;\n",
       "    }\n",
       "</style>\n",
       "<table border=\"1\" class=\"dataframe\">\n",
       "  <thead>\n",
       "    <tr style=\"text-align: right;\">\n",
       "      <th></th>\n",
       "      <th>sentiment</th>\n",
       "      <th>review</th>\n",
       "      <th>sentiment_calculated</th>\n",
       "      <th>bag</th>\n",
       "      <th>bag_neg</th>\n",
       "      <th>sentiment_lex</th>\n",
       "      <th>sentiment_lex_neg</th>\n",
       "      <th>sentiment_to_binary_n</th>\n",
       "    </tr>\n",
       "  </thead>\n",
       "  <tbody>\n",
       "    <tr>\n",
       "      <th>6806</th>\n",
       "      <td>positive</td>\n",
       "      <td>This cereal is good and will get you full and ...</td>\n",
       "      <td>positive</td>\n",
       "      <td>[cereal, good, get, full, satiat, best, mix, l...</td>\n",
       "      <td>[cereal, good, get, full, satiat, best, mix, l...</td>\n",
       "      <td>positive</td>\n",
       "      <td>positive</td>\n",
       "      <td>1.0</td>\n",
       "    </tr>\n",
       "    <tr>\n",
       "      <th>29828</th>\n",
       "      <td>negative</td>\n",
       "      <td>The Gold Kili flavor is very powerful raw ging...</td>\n",
       "      <td>positive</td>\n",
       "      <td>[gold, kili, flavor, power, raw, ginger, littl...</td>\n",
       "      <td>[gold, kili, flavor, power, raw, ginger, littl...</td>\n",
       "      <td>positive</td>\n",
       "      <td>positive</td>\n",
       "      <td>0.0</td>\n",
       "    </tr>\n",
       "    <tr>\n",
       "      <th>19617</th>\n",
       "      <td>positive</td>\n",
       "      <td>This bread is super-easy to make in a bread ma...</td>\n",
       "      <td>positive</td>\n",
       "      <td>[bread, super-easi, make, bread, machin, tast,...</td>\n",
       "      <td>[bread, super-easi, make, bread, machin, tast,...</td>\n",
       "      <td>positive</td>\n",
       "      <td>positive</td>\n",
       "      <td>1.0</td>\n",
       "    </tr>\n",
       "    <tr>\n",
       "      <th>1530</th>\n",
       "      <td>positive</td>\n",
       "      <td>Sweetarts evokes nostalgic memories of going i...</td>\n",
       "      <td>negative</td>\n",
       "      <td>[sweetart, evok, nostalg, memori, go, candi, s...</td>\n",
       "      <td>[sweetart, evok, nostalg, memori, go, candi, s...</td>\n",
       "      <td>positive</td>\n",
       "      <td>positive</td>\n",
       "      <td>1.0</td>\n",
       "    </tr>\n",
       "    <tr>\n",
       "      <th>3197</th>\n",
       "      <td>positive</td>\n",
       "      <td>I bought this kit and I have to say that it wa...</td>\n",
       "      <td>positive</td>\n",
       "      <td>[bought, kit, say, hit, origin, bought, wife, ...</td>\n",
       "      <td>[bought, kit, say, hit, origin, bought, wife, ...</td>\n",
       "      <td>positive</td>\n",
       "      <td>positive</td>\n",
       "      <td>1.0</td>\n",
       "    </tr>\n",
       "  </tbody>\n",
       "</table>\n",
       "</div>"
      ],
      "text/plain": [
       "      sentiment                                             review  \\\n",
       "6806   positive  This cereal is good and will get you full and ...   \n",
       "29828  negative  The Gold Kili flavor is very powerful raw ging...   \n",
       "19617  positive  This bread is super-easy to make in a bread ma...   \n",
       "1530   positive  Sweetarts evokes nostalgic memories of going i...   \n",
       "3197   positive  I bought this kit and I have to say that it wa...   \n",
       "\n",
       "      sentiment_calculated                                                bag  \\\n",
       "6806              positive  [cereal, good, get, full, satiat, best, mix, l...   \n",
       "29828             positive  [gold, kili, flavor, power, raw, ginger, littl...   \n",
       "19617             positive  [bread, super-easi, make, bread, machin, tast,...   \n",
       "1530              negative  [sweetart, evok, nostalg, memori, go, candi, s...   \n",
       "3197              positive  [bought, kit, say, hit, origin, bought, wife, ...   \n",
       "\n",
       "                                                 bag_neg sentiment_lex  \\\n",
       "6806   [cereal, good, get, full, satiat, best, mix, l...      positive   \n",
       "29828  [gold, kili, flavor, power, raw, ginger, littl...      positive   \n",
       "19617  [bread, super-easi, make, bread, machin, tast,...      positive   \n",
       "1530   [sweetart, evok, nostalg, memori, go, candi, s...      positive   \n",
       "3197   [bought, kit, say, hit, origin, bought, wife, ...      positive   \n",
       "\n",
       "      sentiment_lex_neg  sentiment_to_binary_n  \n",
       "6806           positive                    1.0  \n",
       "29828          positive                    0.0  \n",
       "19617          positive                    1.0  \n",
       "1530           positive                    1.0  \n",
       "3197           positive                    1.0  "
      ]
     },
     "execution_count": 346,
     "metadata": {},
     "output_type": "execute_result"
    }
   ],
   "source": [
    "df.sample(5)"
   ]
  },
  {
   "cell_type": "code",
   "execution_count": 106,
   "metadata": {},
   "outputs": [
    {
     "data": {
      "image/png": "[encoded data removed]",
      "text/plain": [
       "<Figure size 500x500 with 2 Axes>"
      ]
     },
     "metadata": {},
     "output_type": "display_data"
    },
    {
     "name": "stdout",
     "output_type": "stream",
     "text": [
      "accuracy:   0.817\n"
     ]
    }
   ],
   "source": [
    "plot_confusion_matrix_accurancy(df, 'sentiment', 'sentiment_calculated')"
   ]
  },
  {
   "cell_type": "markdown",
   "metadata": {},
   "source": [
    "### Aplicação de um léxico de sentimentos"
   ]
  },
  {
   "cell_type": "code",
   "execution_count": 192,
   "metadata": {
    "tags": []
   },
   "outputs": [],
   "source": [
    "lex = pd.read_csv(\"../TM/data/en/NCR-lexicon.csv\", encoding=\"utf-8\")\n",
    "lex.set_index(\"English\", inplace=True)\n",
    "lex = lex['Positive'] - lex['Negative']\n",
    "lex = lex.to_dict()"
   ]
  },
  {
   "cell_type": "code",
   "execution_count": 193,
   "metadata": {},
   "outputs": [],
   "source": [
    "df['bag'] = create_bag_Word_Corpus(df, 'review', neg=False)\n",
    "df['bag_neg'] = create_bag_Word_Corpus(df, 'review', neg=True)\n",
    "df['sentiment_lex'] = sentiment_lex(df, 'bag')\n",
    "df['sentiment_lex_neg'] = sentiment_lex(df, 'bag_neg')"
   ]
  },
  {
   "cell_type": "markdown",
   "metadata": {},
   "source": [
    "#### Sem tratamento da negação"
   ]
  },
  {
   "cell_type": "code",
   "execution_count": 199,
   "metadata": {
    "tags": []
   },
   "outputs": [
    {
     "data": {
      "image/png": "[encoded data removed]",
      "text/plain": [
       "<Figure size 500x500 with 2 Axes>"
      ]
     },
     "metadata": {},
     "output_type": "display_data"
    },
    {
     "name": "stdout",
     "output_type": "stream",
     "text": [
      "accuracy:   0.763\n"
     ]
    }
   ],
   "source": [
    "plot_confusion_matrix_accurancy(df, 'sentiment', 'sentiment_lex')"
   ]
  },
  {
   "cell_type": "markdown",
   "metadata": {},
   "source": [
    "#### Com tratamento da negação"
   ]
  },
  {
   "cell_type": "code",
   "execution_count": 200,
   "metadata": {
    "tags": []
   },
   "outputs": [
    {
     "data": {
      "image/png": "[encoded data removed]",
      "text/plain": [
       "<Figure size 500x500 with 2 Axes>"
      ]
     },
     "metadata": {},
     "output_type": "display_data"
    },
    {
     "name": "stdout",
     "output_type": "stream",
     "text": [
      "accuracy:   0.765\n"
     ]
    }
   ],
   "source": [
    "plot_confusion_matrix_accurancy(df, 'sentiment', 'sentiment_lex_neg')"
   ]
  },
  {
   "cell_type": "markdown",
   "metadata": {},
   "source": [
    "### Aprendizagem automática"
   ]
  },
  {
   "cell_type": "markdown",
   "metadata": {},
   "source": [
    "#### Features:\n",
    "\n",
    "- Maiúsculas e minúsculas\n",
    "- Minúsculas\n",
    "- Normalização de palavras\n",
    "- Steaming\n",
    "- Com e sem part-of-speach\n",
    "- Entidades mencionadas\n",
    "- GloVe (embeddings)\n",
    "\n",
    "Possible Improvements\n",
    "* Filtering\n",
    "* Part of Speech Tag Filter - tirara palavras fechadas\n",
    "* Chunks (Parsing)\n",
    "* **NER**\n",
    "\n",
    "#### Models to test:\n",
    "\n",
    "- **Logistic Regression**\n",
    "- **Support Vector Machine (SVM)**\n",
    "- **Multinomial Naive Bayes**"
   ]
  },
  {
   "cell_type": "markdown",
   "metadata": {},
   "source": [
    "### Preparação dos Dados"
   ]
  },
  {
   "cell_type": "code",
   "execution_count": 358,
   "metadata": {
    "tags": []
   },
   "outputs": [],
   "source": [
    "df['label'] = sentiment_convert(df, 'sentiment', convert=0)\n",
    "df_test['label'] = sentiment_convert(df_test, 'sentiment', convert=0)"
   ]
  },
  {
   "cell_type": "code",
   "execution_count": 388,
   "metadata": {},
   "outputs": [],
   "source": [
    "df['review'] = df['review'].apply(str)\n",
    "df_test['review'] = df_test['review'].apply(str)"
   ]
  },
  {
   "cell_type": "markdown",
   "metadata": {},
   "source": [
    "### Features"
   ]
  },
  {
   "cell_type": "code",
   "execution_count": 401,
   "metadata": {
    "tags": []
   },
   "outputs": [],
   "source": [
    "vectorizer = CountVectorizer()\n",
    "train_X = vectorizer.fit_transform(df['review'])\n",
    "test_X = vectorizer.transform(df_test['review'])"
   ]
  },
  {
   "cell_type": "code",
   "execution_count": 390,
   "metadata": {},
   "outputs": [],
   "source": [
    "tfidf_vectorizer = TfidfVectorizer(use_idf=True)\n",
    "train_tfidf = tfidf_vectorizer.fit_transform(df['review']) \n",
    "test_tfidf = tfidf_vectorizer.transform(df_test['review']) "
   ]
  },
  {
   "cell_type": "markdown",
   "metadata": {},
   "source": [
    "### Models"
   ]
  },
  {
   "cell_type": "markdown",
   "metadata": {},
   "source": [
    "#### Multinomial Naive Bayes"
   ]
  },
  {
   "cell_type": "code",
   "execution_count": 431,
   "metadata": {},
   "outputs": [
    {
     "name": "stdout",
     "output_type": "stream",
     "text": [
      "MultinomialNB accuracy:   0.854\n"
     ]
    }
   ],
   "source": [
    "nb = MultinomialNB()\n",
    "Mult_nb = nb.fit(train_X, df['label'])\n",
    "df_test['sentiment_mnb'] = Mult_nb.predict(test_X)\n",
    "score_mnb = accuracy_score(df_test['label'], df_test['sentiment_mnb'])\n",
    "print(\"MultinomialNB accuracy:   %0.3f\" % score_mnb)"
   ]
  },
  {
   "cell_type": "code",
   "execution_count": 432,
   "metadata": {
    "tags": []
   },
   "outputs": [
    {
     "name": "stdout",
     "output_type": "stream",
     "text": [
      "TFIDF-MultinomialNB accuracy:   0.708\n"
     ]
    }
   ],
   "source": [
    "nb = MultinomialNB()\n",
    "Mult_nb_tfidf = nb.fit(train_tfidf, df['label'])\n",
    "df_test['sentiment_mnb_tfidf'] = Mult_nb_tfidf.predict(test_tfidf)\n",
    "score_tfidf_mnb = accuracy_score(df_test['label'], df_test['sentiment_mnb_tfidf'])\n",
    "print(\"TFIDF-MultinomialNB accuracy:   %0.3f\" % score_tfidf_mnb)"
   ]
  },
  {
   "cell_type": "markdown",
   "metadata": {},
   "source": [
    "#### Logistic_regression"
   ]
  },
  {
   "cell_type": "code",
   "execution_count": 441,
   "metadata": {},
   "outputs": [
    {
     "name": "stdout",
     "output_type": "stream",
     "text": [
      "Lr accuracy:   0.866\n"
     ]
    }
   ],
   "source": [
    "lr = LogisticRegression(solver='lbfgs', max_iter=1000)\n",
    "lre = lr.fit(train_X, df['label'])\n",
    "df_test['sentiment_lr'] = lre.predict(test_X)\n",
    "score_lre = accuracy_score(df_test['label'], df_test['sentiment_lr'])\n",
    "print(\"Lr accuracy:   %0.3f\" % score_lre)"
   ]
  },
  {
   "cell_type": "code",
   "execution_count": 442,
   "metadata": {},
   "outputs": [
    {
     "name": "stdout",
     "output_type": "stream",
     "text": [
      "TFIDF-Lr accuracy:   0.855\n"
     ]
    }
   ],
   "source": [
    "lr = LogisticRegression(solver='lbfgs', max_iter=1000)\n",
    "lre_tfidf = lr.fit(train_tfidf, df['label'])\n",
    "df_test['sentiment_lr_tfidf'] = lre_tfidf.predict(test_tfidf)\n",
    "score_tfidf_lre = accuracy_score(df_test['label'], df_test['sentiment_lr_tfidf'])\n",
    "print(\"TFIDF-Lr accuracy:   %0.3f\" % score_tfidf_lre)"
   ]
  },
  {
   "cell_type": "markdown",
   "metadata": {},
   "source": [
    "#### Linear SVC"
   ]
  },
  {
   "cell_type": "code",
   "execution_count": 458,
   "metadata": {},
   "outputs": [
    {
     "name": "stdout",
     "output_type": "stream",
     "text": [
      "lsvm accuracy:   0.841\n"
     ]
    }
   ],
   "source": [
    "svmc = LinearSVC(max_iter=20000)\n",
    "lsvm = svmc.fit(train_X, df['label'])\n",
    "df_test['sentiment_lsvm'] = lsvm.predict(test_X)\n",
    "score_lsvm = accuracy_score(df_test['label'], df_test['sentiment_lsvm'])\n",
    "print(\"lsvm accuracy:   %0.3f\" % score_lsvm)"
   ]
  },
  {
   "cell_type": "code",
   "execution_count": 459,
   "metadata": {},
   "outputs": [
    {
     "name": "stdout",
     "output_type": "stream",
     "text": [
      "TFIDF-lsvm accuracy:   0.868\n"
     ]
    }
   ],
   "source": [
    "svmc = LinearSVC(max_iter=20000)\n",
    "lsvm_tfidf = svmc.fit(train_tfidf, df['label'])\n",
    "df_test['sentiment_lsvm_tfidf'] = lsvm_tfidf.predict(test_tfidf)\n",
    "score_tfidf_lsvm = accuracy_score(df_test['label'], df_test['sentiment_lsvm_tfidf'])\n",
    "print(\"TFIDF-lsvm accuracy:   %0.3f\" % score_tfidf_lsvm)"
   ]
  }
 ],
 "metadata": {
  "kernelspec": {
   "display_name": "Python 3",
   "language": "python",
   "name": "python3"
  },
  "language_info": {
   "codemirror_mode": {
    "name": "ipython",
    "version": 3
   },
   "file_extension": ".py",
   "mimetype": "text/x-python",
   "name": "python",
   "nbconvert_exporter": "python",
   "pygments_lexer": "ipython3",
   "version": "3.8.10"
  }
 },
 "nbformat": 4,
 "nbformat_minor": 4
}
